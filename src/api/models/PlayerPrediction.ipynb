{
  "nbformat": 4,
  "nbformat_minor": 0,
  "metadata": {
    "colab": {
      "name": "PlayerPrediction.ipynb",
      "provenance": [],
      "collapsed_sections": []
    },
    "kernelspec": {
      "name": "python3",
      "display_name": "Python 3"
    },
    "language_info": {
      "name": "python"
    }
  },
  "cells": [
    {
      "cell_type": "code",
      "metadata": {
        "id": "NO6KqJ4WZtHr"
      },
      "source": [
        "import matplotlib.pyplot as plt\n",
        "import seaborn as sns\n",
        "import numpy as np\n",
        "import pandas as pd\n",
        "from sklearn.model_selection import train_test_split, cross_val_score"
      ],
      "execution_count": 80,
      "outputs": []
    },
    {
      "cell_type": "code",
      "metadata": {
        "colab": {
          "base_uri": "https://localhost:8080/",
          "height": 35
        },
        "id": "_fXF9_B-0zzV",
        "outputId": "66100dfc-851f-4a42-a9ae-efadb8d48e98"
      },
      "source": [
        "import sklearn\n",
        "\n",
        "sklearn.__version__"
      ],
      "execution_count": 81,
      "outputs": [
        {
          "output_type": "execute_result",
          "data": {
            "application/vnd.google.colaboratory.intrinsic+json": {
              "type": "string"
            },
            "text/plain": [
              "'0.22.2.post1'"
            ]
          },
          "metadata": {},
          "execution_count": 81
        }
      ]
    },
    {
      "cell_type": "code",
      "metadata": {
        "colab": {
          "base_uri": "https://localhost:8080/",
          "height": 870
        },
        "id": "dk2GKJMP59kF",
        "outputId": "f61eaea9-0835-451a-cc63-ab5b92032ca9"
      },
      "source": [
        "player1=pd.read_csv('Players1.csv')\n",
        "player1.describe()\n",
        "player1.info()\n",
        "player1\n"
      ],
      "execution_count": 82,
      "outputs": [
        {
          "output_type": "stream",
          "name": "stdout",
          "text": [
            "<class 'pandas.core.frame.DataFrame'>\n",
            "Int64Index: 5964 entries, 0 to 5963\n",
            "Data columns (total 16 columns):\n",
            " #   Column           Non-Null Count  Dtype  \n",
            "---  ------           --------------  -----  \n",
            " 0   Player           5964 non-null   object \n",
            " 1   Overall Score    5964 non-null   int64  \n",
            " 2   Potential Score  5964 non-null   int64  \n",
            " 3   Market Value     5851 non-null   float64\n",
            " 4   Weekly Salary    5851 non-null   float64\n",
            " 5   Height           5964 non-null   int64  \n",
            " 6   Weight           5964 non-null   int64  \n",
            " 7   Age              5964 non-null   int64  \n",
            " 8   Preferred Foot   5964 non-null   object \n",
            " 9   Ball Skills      5964 non-null   float64\n",
            " 10  Defence          5964 non-null   float64\n",
            " 11  Mental           5964 non-null   float64\n",
            " 12  Passing          5964 non-null   float64\n",
            " 13  Physical         5964 non-null   float64\n",
            " 14  Shooting         5964 non-null   float64\n",
            " 15  Goalkeeping      5964 non-null   float64\n",
            "dtypes: float64(9), int64(5), object(2)\n",
            "memory usage: 792.1+ KB\n"
          ]
        },
        {
          "output_type": "execute_result",
          "data": {
            "text/html": [
              "<div>\n",
              "<style scoped>\n",
              "    .dataframe tbody tr th:only-of-type {\n",
              "        vertical-align: middle;\n",
              "    }\n",
              "\n",
              "    .dataframe tbody tr th {\n",
              "        vertical-align: top;\n",
              "    }\n",
              "\n",
              "    .dataframe thead th {\n",
              "        text-align: right;\n",
              "    }\n",
              "</style>\n",
              "<table border=\"1\" class=\"dataframe\">\n",
              "  <thead>\n",
              "    <tr style=\"text-align: right;\">\n",
              "      <th></th>\n",
              "      <th>Player</th>\n",
              "      <th>Overall Score</th>\n",
              "      <th>Potential Score</th>\n",
              "      <th>Market Value</th>\n",
              "      <th>Weekly Salary</th>\n",
              "      <th>Height</th>\n",
              "      <th>Weight</th>\n",
              "      <th>Age</th>\n",
              "      <th>Preferred Foot</th>\n",
              "      <th>Ball Skills</th>\n",
              "      <th>Defence</th>\n",
              "      <th>Mental</th>\n",
              "      <th>Passing</th>\n",
              "      <th>Physical</th>\n",
              "      <th>Shooting</th>\n",
              "      <th>Goalkeeping</th>\n",
              "    </tr>\n",
              "  </thead>\n",
              "  <tbody>\n",
              "    <tr>\n",
              "      <th>0</th>\n",
              "      <td>Lionel Messi</td>\n",
              "      <td>94</td>\n",
              "      <td>94</td>\n",
              "      <td>95500000.0</td>\n",
              "      <td>560000.0</td>\n",
              "      <td>170</td>\n",
              "      <td>72</td>\n",
              "      <td>33</td>\n",
              "      <td>Left</td>\n",
              "      <td>96.5</td>\n",
              "      <td>32.000000</td>\n",
              "      <td>77.833333</td>\n",
              "      <td>90.666667</td>\n",
              "      <td>82.000000</td>\n",
              "      <td>86.875</td>\n",
              "      <td>10.8</td>\n",
              "    </tr>\n",
              "    <tr>\n",
              "      <th>1</th>\n",
              "      <td>Cristiano Ronaldo</td>\n",
              "      <td>93</td>\n",
              "      <td>93</td>\n",
              "      <td>58500000.0</td>\n",
              "      <td>400000.0</td>\n",
              "      <td>187</td>\n",
              "      <td>83</td>\n",
              "      <td>35</td>\n",
              "      <td>Right</td>\n",
              "      <td>90.5</td>\n",
              "      <td>28.000000</td>\n",
              "      <td>76.666667</td>\n",
              "      <td>81.333333</td>\n",
              "      <td>85.000000</td>\n",
              "      <td>87.500</td>\n",
              "      <td>11.6</td>\n",
              "    </tr>\n",
              "    <tr>\n",
              "      <th>2</th>\n",
              "      <td>Neymar Jr</td>\n",
              "      <td>92</td>\n",
              "      <td>92</td>\n",
              "      <td>105500000.0</td>\n",
              "      <td>290000.0</td>\n",
              "      <td>175</td>\n",
              "      <td>68</td>\n",
              "      <td>28</td>\n",
              "      <td>Right</td>\n",
              "      <td>95.5</td>\n",
              "      <td>31.333333</td>\n",
              "      <td>75.000000</td>\n",
              "      <td>85.000000</td>\n",
              "      <td>79.142857</td>\n",
              "      <td>83.750</td>\n",
              "      <td>11.8</td>\n",
              "    </tr>\n",
              "    <tr>\n",
              "      <th>3</th>\n",
              "      <td>Virgil van Dijk</td>\n",
              "      <td>91</td>\n",
              "      <td>92</td>\n",
              "      <td>90000000.0</td>\n",
              "      <td>245000.0</td>\n",
              "      <td>193</td>\n",
              "      <td>92</td>\n",
              "      <td>29</td>\n",
              "      <td>Right</td>\n",
              "      <td>73.5</td>\n",
              "      <td>90.666667</td>\n",
              "      <td>77.333333</td>\n",
              "      <td>71.666667</td>\n",
              "      <td>74.857143</td>\n",
              "      <td>65.125</td>\n",
              "      <td>11.6</td>\n",
              "    </tr>\n",
              "    <tr>\n",
              "      <th>4</th>\n",
              "      <td>Jan Oblak</td>\n",
              "      <td>91</td>\n",
              "      <td>93</td>\n",
              "      <td>77500000.0</td>\n",
              "      <td>125000.0</td>\n",
              "      <td>188</td>\n",
              "      <td>87</td>\n",
              "      <td>27</td>\n",
              "      <td>Right</td>\n",
              "      <td>21.0</td>\n",
              "      <td>19.000000</td>\n",
              "      <td>47.500000</td>\n",
              "      <td>32.000000</td>\n",
              "      <td>59.428571</td>\n",
              "      <td>18.500</td>\n",
              "      <td>87.2</td>\n",
              "    </tr>\n",
              "    <tr>\n",
              "      <th>...</th>\n",
              "      <td>...</td>\n",
              "      <td>...</td>\n",
              "      <td>...</td>\n",
              "      <td>...</td>\n",
              "      <td>...</td>\n",
              "      <td>...</td>\n",
              "      <td>...</td>\n",
              "      <td>...</td>\n",
              "      <td>...</td>\n",
              "      <td>...</td>\n",
              "      <td>...</td>\n",
              "      <td>...</td>\n",
              "      <td>...</td>\n",
              "      <td>...</td>\n",
              "      <td>...</td>\n",
              "      <td>...</td>\n",
              "    </tr>\n",
              "    <tr>\n",
              "      <th>5959</th>\n",
              "      <td>Kyle Beckerman</td>\n",
              "      <td>70</td>\n",
              "      <td>70</td>\n",
              "      <td>275000.0</td>\n",
              "      <td>3200.0</td>\n",
              "      <td>177</td>\n",
              "      <td>70</td>\n",
              "      <td>38</td>\n",
              "      <td>Right</td>\n",
              "      <td>65.5</td>\n",
              "      <td>67.666667</td>\n",
              "      <td>66.000000</td>\n",
              "      <td>61.333333</td>\n",
              "      <td>55.857143</td>\n",
              "      <td>61.875</td>\n",
              "      <td>11.8</td>\n",
              "    </tr>\n",
              "    <tr>\n",
              "      <th>5960</th>\n",
              "      <td>Mohamed Tijani</td>\n",
              "      <td>69</td>\n",
              "      <td>79</td>\n",
              "      <td>1500000.0</td>\n",
              "      <td>5300.0</td>\n",
              "      <td>188</td>\n",
              "      <td>91</td>\n",
              "      <td>23</td>\n",
              "      <td>Right</td>\n",
              "      <td>51.5</td>\n",
              "      <td>68.000000</td>\n",
              "      <td>56.666667</td>\n",
              "      <td>46.333333</td>\n",
              "      <td>67.142857</td>\n",
              "      <td>33.125</td>\n",
              "      <td>12.4</td>\n",
              "    </tr>\n",
              "    <tr>\n",
              "      <th>5961</th>\n",
              "      <td>David Zima</td>\n",
              "      <td>69</td>\n",
              "      <td>82</td>\n",
              "      <td>1700000.0</td>\n",
              "      <td>2100.0</td>\n",
              "      <td>190</td>\n",
              "      <td>80</td>\n",
              "      <td>19</td>\n",
              "      <td>Right</td>\n",
              "      <td>61.5</td>\n",
              "      <td>67.000000</td>\n",
              "      <td>57.833333</td>\n",
              "      <td>53.666667</td>\n",
              "      <td>62.285714</td>\n",
              "      <td>44.125</td>\n",
              "      <td>10.0</td>\n",
              "    </tr>\n",
              "    <tr>\n",
              "      <th>5962</th>\n",
              "      <td>Róbert Boženík</td>\n",
              "      <td>69</td>\n",
              "      <td>81</td>\n",
              "      <td>1800000.0</td>\n",
              "      <td>4300.0</td>\n",
              "      <td>188</td>\n",
              "      <td>81</td>\n",
              "      <td>20</td>\n",
              "      <td>Right</td>\n",
              "      <td>67.5</td>\n",
              "      <td>28.000000</td>\n",
              "      <td>56.166667</td>\n",
              "      <td>59.333333</td>\n",
              "      <td>70.714286</td>\n",
              "      <td>60.625</td>\n",
              "      <td>10.2</td>\n",
              "    </tr>\n",
              "    <tr>\n",
              "      <th>5963</th>\n",
              "      <td>Gadi Kinda</td>\n",
              "      <td>69</td>\n",
              "      <td>72</td>\n",
              "      <td>1300000.0</td>\n",
              "      <td>4000.0</td>\n",
              "      <td>173</td>\n",
              "      <td>66</td>\n",
              "      <td>26</td>\n",
              "      <td>Right</td>\n",
              "      <td>75.5</td>\n",
              "      <td>54.000000</td>\n",
              "      <td>63.833333</td>\n",
              "      <td>64.333333</td>\n",
              "      <td>72.142857</td>\n",
              "      <td>49.375</td>\n",
              "      <td>9.6</td>\n",
              "    </tr>\n",
              "  </tbody>\n",
              "</table>\n",
              "<p>5964 rows × 16 columns</p>\n",
              "</div>"
            ],
            "text/plain": [
              "                 Player  Overall Score  ...  Shooting  Goalkeeping\n",
              "0          Lionel Messi             94  ...    86.875         10.8\n",
              "1     Cristiano Ronaldo             93  ...    87.500         11.6\n",
              "2             Neymar Jr             92  ...    83.750         11.8\n",
              "3       Virgil van Dijk             91  ...    65.125         11.6\n",
              "4             Jan Oblak             91  ...    18.500         87.2\n",
              "...                 ...            ...  ...       ...          ...\n",
              "5959     Kyle Beckerman             70  ...    61.875         11.8\n",
              "5960     Mohamed Tijani             69  ...    33.125         12.4\n",
              "5961         David Zima             69  ...    44.125         10.0\n",
              "5962     Róbert Boženík             69  ...    60.625         10.2\n",
              "5963         Gadi Kinda             69  ...    49.375          9.6\n",
              "\n",
              "[5964 rows x 16 columns]"
            ]
          },
          "metadata": {},
          "execution_count": 82
        }
      ]
    },
    {
      "cell_type": "code",
      "metadata": {
        "id": "ngHUKGGoBW5E",
        "colab": {
          "base_uri": "https://localhost:8080/",
          "height": 312
        },
        "outputId": "b070714a-0455-4e6e-8e82-8ecb9b583f5e"
      },
      "source": [
        "player1.describe()"
      ],
      "execution_count": 83,
      "outputs": [
        {
          "output_type": "execute_result",
          "data": {
            "text/html": [
              "<div>\n",
              "<style scoped>\n",
              "    .dataframe tbody tr th:only-of-type {\n",
              "        vertical-align: middle;\n",
              "    }\n",
              "\n",
              "    .dataframe tbody tr th {\n",
              "        vertical-align: top;\n",
              "    }\n",
              "\n",
              "    .dataframe thead th {\n",
              "        text-align: right;\n",
              "    }\n",
              "</style>\n",
              "<table border=\"1\" class=\"dataframe\">\n",
              "  <thead>\n",
              "    <tr style=\"text-align: right;\">\n",
              "      <th></th>\n",
              "      <th>Overall Score</th>\n",
              "      <th>Potential Score</th>\n",
              "      <th>Market Value</th>\n",
              "      <th>Weekly Salary</th>\n",
              "      <th>Height</th>\n",
              "      <th>Weight</th>\n",
              "      <th>Age</th>\n",
              "      <th>Ball Skills</th>\n",
              "      <th>Defence</th>\n",
              "      <th>Mental</th>\n",
              "      <th>Passing</th>\n",
              "      <th>Physical</th>\n",
              "      <th>Shooting</th>\n",
              "      <th>Goalkeeping</th>\n",
              "    </tr>\n",
              "  </thead>\n",
              "  <tbody>\n",
              "    <tr>\n",
              "      <th>count</th>\n",
              "      <td>5964.000000</td>\n",
              "      <td>5964.00000</td>\n",
              "      <td>5.851000e+03</td>\n",
              "      <td>5851.000000</td>\n",
              "      <td>5964.000000</td>\n",
              "      <td>5964.000000</td>\n",
              "      <td>5964.000000</td>\n",
              "      <td>5964.000000</td>\n",
              "      <td>5964.000000</td>\n",
              "      <td>5964.000000</td>\n",
              "      <td>5964.000000</td>\n",
              "      <td>5964.000000</td>\n",
              "      <td>5964.000000</td>\n",
              "      <td>5964.000000</td>\n",
              "    </tr>\n",
              "    <tr>\n",
              "      <th>mean</th>\n",
              "      <td>74.026492</td>\n",
              "      <td>76.38548</td>\n",
              "      <td>6.844555e+06</td>\n",
              "      <td>24570.705862</td>\n",
              "      <td>181.473005</td>\n",
              "      <td>76.200201</td>\n",
              "      <td>27.947015</td>\n",
              "      <td>65.237508</td>\n",
              "      <td>52.447183</td>\n",
              "      <td>62.672451</td>\n",
              "      <td>61.912978</td>\n",
              "      <td>67.950680</td>\n",
              "      <td>55.875755</td>\n",
              "      <td>16.381321</td>\n",
              "    </tr>\n",
              "    <tr>\n",
              "      <th>std</th>\n",
              "      <td>3.761233</td>\n",
              "      <td>4.76749</td>\n",
              "      <td>8.493833e+06</td>\n",
              "      <td>32569.006291</td>\n",
              "      <td>6.861299</td>\n",
              "      <td>7.168148</td>\n",
              "      <td>4.130182</td>\n",
              "      <td>17.077144</td>\n",
              "      <td>22.035056</td>\n",
              "      <td>9.936667</td>\n",
              "      <td>14.497314</td>\n",
              "      <td>8.962494</td>\n",
              "      <td>15.265435</td>\n",
              "      <td>18.232423</td>\n",
              "    </tr>\n",
              "    <tr>\n",
              "      <th>min</th>\n",
              "      <td>69.000000</td>\n",
              "      <td>70.00000</td>\n",
              "      <td>1.000000e+03</td>\n",
              "      <td>1500.000000</td>\n",
              "      <td>158.000000</td>\n",
              "      <td>55.000000</td>\n",
              "      <td>17.000000</td>\n",
              "      <td>7.500000</td>\n",
              "      <td>9.000000</td>\n",
              "      <td>25.166667</td>\n",
              "      <td>10.000000</td>\n",
              "      <td>25.428571</td>\n",
              "      <td>12.625000</td>\n",
              "      <td>1.000000</td>\n",
              "    </tr>\n",
              "    <tr>\n",
              "      <th>25%</th>\n",
              "      <td>71.000000</td>\n",
              "      <td>73.00000</td>\n",
              "      <td>2.500000e+06</td>\n",
              "      <td>8600.000000</td>\n",
              "      <td>177.000000</td>\n",
              "      <td>71.000000</td>\n",
              "      <td>25.000000</td>\n",
              "      <td>63.000000</td>\n",
              "      <td>31.333333</td>\n",
              "      <td>59.000000</td>\n",
              "      <td>57.666667</td>\n",
              "      <td>64.428571</td>\n",
              "      <td>48.500000</td>\n",
              "      <td>9.800000</td>\n",
              "    </tr>\n",
              "    <tr>\n",
              "      <th>50%</th>\n",
              "      <td>73.000000</td>\n",
              "      <td>75.00000</td>\n",
              "      <td>4.200000e+06</td>\n",
              "      <td>15000.000000</td>\n",
              "      <td>182.000000</td>\n",
              "      <td>76.000000</td>\n",
              "      <td>28.000000</td>\n",
              "      <td>70.500000</td>\n",
              "      <td>62.666667</td>\n",
              "      <td>64.500000</td>\n",
              "      <td>66.000000</td>\n",
              "      <td>69.857143</td>\n",
              "      <td>60.375000</td>\n",
              "      <td>10.800000</td>\n",
              "    </tr>\n",
              "    <tr>\n",
              "      <th>75%</th>\n",
              "      <td>76.000000</td>\n",
              "      <td>80.00000</td>\n",
              "      <td>8.000000e+06</td>\n",
              "      <td>27500.000000</td>\n",
              "      <td>186.000000</td>\n",
              "      <td>81.000000</td>\n",
              "      <td>31.000000</td>\n",
              "      <td>75.000000</td>\n",
              "      <td>71.333333</td>\n",
              "      <td>69.000000</td>\n",
              "      <td>71.000000</td>\n",
              "      <td>73.857143</td>\n",
              "      <td>66.625000</td>\n",
              "      <td>12.000000</td>\n",
              "    </tr>\n",
              "    <tr>\n",
              "      <th>max</th>\n",
              "      <td>94.000000</td>\n",
              "      <td>95.00000</td>\n",
              "      <td>1.055000e+08</td>\n",
              "      <td>560000.000000</td>\n",
              "      <td>201.000000</td>\n",
              "      <td>104.000000</td>\n",
              "      <td>42.000000</td>\n",
              "      <td>96.500000</td>\n",
              "      <td>90.666667</td>\n",
              "      <td>85.666667</td>\n",
              "      <td>92.333333</td>\n",
              "      <td>87.285714</td>\n",
              "      <td>87.500000</td>\n",
              "      <td>87.800000</td>\n",
              "    </tr>\n",
              "  </tbody>\n",
              "</table>\n",
              "</div>"
            ],
            "text/plain": [
              "       Overall Score  Potential Score  ...     Shooting  Goalkeeping\n",
              "count    5964.000000       5964.00000  ...  5964.000000  5964.000000\n",
              "mean       74.026492         76.38548  ...    55.875755    16.381321\n",
              "std         3.761233          4.76749  ...    15.265435    18.232423\n",
              "min        69.000000         70.00000  ...    12.625000     1.000000\n",
              "25%        71.000000         73.00000  ...    48.500000     9.800000\n",
              "50%        73.000000         75.00000  ...    60.375000    10.800000\n",
              "75%        76.000000         80.00000  ...    66.625000    12.000000\n",
              "max        94.000000         95.00000  ...    87.500000    87.800000\n",
              "\n",
              "[8 rows x 14 columns]"
            ]
          },
          "metadata": {},
          "execution_count": 83
        }
      ]
    },
    {
      "cell_type": "code",
      "metadata": {
        "colab": {
          "base_uri": "https://localhost:8080/"
        },
        "id": "ref4aF7cCId_",
        "outputId": "06d22032-50b0-451b-89b3-a19f8bea3ad1"
      },
      "source": [
        "player1.isna().sum()"
      ],
      "execution_count": 84,
      "outputs": [
        {
          "output_type": "execute_result",
          "data": {
            "text/plain": [
              "Player               0\n",
              "Overall Score        0\n",
              "Potential Score      0\n",
              "Market Value       113\n",
              "Weekly Salary      113\n",
              "Height               0\n",
              "Weight               0\n",
              "Age                  0\n",
              "Preferred Foot       0\n",
              "Ball Skills          0\n",
              "Defence              0\n",
              "Mental               0\n",
              "Passing              0\n",
              "Physical             0\n",
              "Shooting             0\n",
              "Goalkeeping          0\n",
              "dtype: int64"
            ]
          },
          "metadata": {},
          "execution_count": 84
        }
      ]
    },
    {
      "cell_type": "code",
      "metadata": {
        "id": "1kRoHElTi55A"
      },
      "source": [
        "player=player1.dropna()"
      ],
      "execution_count": 85,
      "outputs": []
    },
    {
      "cell_type": "code",
      "metadata": {
        "colab": {
          "base_uri": "https://localhost:8080/",
          "height": 620
        },
        "id": "RVxAFFl-kQLi",
        "outputId": "33242573-efd6-45a8-b42f-722c890892cf"
      },
      "source": [
        "plt.figure(figsize=[25,10])\n",
        "sns.barplot(x='Age', y='Market Value', data=player, hue='Preferred Foot')"
      ],
      "execution_count": 86,
      "outputs": [
        {
          "output_type": "execute_result",
          "data": {
            "text/plain": [
              "<matplotlib.axes._subplots.AxesSubplot at 0x7f5e77b09f10>"
            ]
          },
          "metadata": {},
          "execution_count": 86
        },
        {
          "output_type": "display_data",
          "data": {
            "image/png": "[encoded data removed]",
            "text/plain": [
              "<Figure size 1800x720 with 1 Axes>"
            ]
          },
          "metadata": {
            "needs_background": "light"
          }
        }
      ]
    },
    {
      "cell_type": "code",
      "metadata": {
        "colab": {
          "base_uri": "https://localhost:8080/",
          "height": 307
        },
        "id": "CbHE8f5uTy5P",
        "outputId": "d1d93341-68aa-490b-c057-3cde6eb3a7c5"
      },
      "source": [
        "plt.figure()\n",
        "sns.scatterplot(x='Weekly Salary', y='Market Value',data=player,hue='Preferred Foot')"
      ],
      "execution_count": 87,
      "outputs": [
        {
          "output_type": "execute_result",
          "data": {
            "text/plain": [
              "<matplotlib.axes._subplots.AxesSubplot at 0x7f5e77b8f450>"
            ]
          },
          "metadata": {},
          "execution_count": 87
        },
        {
          "output_type": "display_data",
          "data": {
            "image/png": "[encoded data removed]",
            "text/plain": [
              "<Figure size 432x288 with 1 Axes>"
            ]
          },
          "metadata": {
            "needs_background": "light"
          }
        }
      ]
    },
    {
      "cell_type": "code",
      "metadata": {
        "colab": {
          "base_uri": "https://localhost:8080/",
          "height": 613
        },
        "id": "ld_use3ot-xo",
        "outputId": "a5b2b8e0-c2cb-4528-c664-a9e56b77cc13"
      },
      "source": [
        "corr=player.corr()\n",
        "plt.figure(figsize=[25,10])\n",
        "sns.heatmap(corr,annot=True)"
      ],
      "execution_count": 88,
      "outputs": [
        {
          "output_type": "execute_result",
          "data": {
            "text/plain": [
              "<matplotlib.axes._subplots.AxesSubplot at 0x7f5e7793d690>"
            ]
          },
          "metadata": {},
          "execution_count": 88
        },
        {
          "output_type": "display_data",
          "data": {
            "image/png": "[encoded data removed]",
            "text/plain": [
              "<Figure size 1800x720 with 2 Axes>"
            ]
          },
          "metadata": {
            "needs_background": "light"
          }
        }
      ]
    },
    {
      "cell_type": "code",
      "metadata": {
        "id": "HUMOvcuCwBmi"
      },
      "source": [
        "X=player.drop(['Height','Weight','Preferred Foot','Market Value','Player'],axis=1)"
      ],
      "execution_count": 89,
      "outputs": []
    },
    {
      "cell_type": "code",
      "metadata": {
        "id": "dVpbt_9Qzegw"
      },
      "source": [
        "y=player['Market Value']"
      ],
      "execution_count": 90,
      "outputs": []
    },
    {
      "cell_type": "code",
      "metadata": {
        "colab": {
          "base_uri": "https://localhost:8080/",
          "height": 417
        },
        "id": "mxJayMrdOj9y",
        "outputId": "7e18f8d3-14ab-4573-84be-e8f6716455ae"
      },
      "source": [
        "X"
      ],
      "execution_count": 91,
      "outputs": [
        {
          "output_type": "execute_result",
          "data": {
            "text/html": [
              "<div>\n",
              "<style scoped>\n",
              "    .dataframe tbody tr th:only-of-type {\n",
              "        vertical-align: middle;\n",
              "    }\n",
              "\n",
              "    .dataframe tbody tr th {\n",
              "        vertical-align: top;\n",
              "    }\n",
              "\n",
              "    .dataframe thead th {\n",
              "        text-align: right;\n",
              "    }\n",
              "</style>\n",
              "<table border=\"1\" class=\"dataframe\">\n",
              "  <thead>\n",
              "    <tr style=\"text-align: right;\">\n",
              "      <th></th>\n",
              "      <th>Overall Score</th>\n",
              "      <th>Potential Score</th>\n",
              "      <th>Weekly Salary</th>\n",
              "      <th>Age</th>\n",
              "      <th>Ball Skills</th>\n",
              "      <th>Defence</th>\n",
              "      <th>Mental</th>\n",
              "      <th>Passing</th>\n",
              "      <th>Physical</th>\n",
              "      <th>Shooting</th>\n",
              "      <th>Goalkeeping</th>\n",
              "    </tr>\n",
              "  </thead>\n",
              "  <tbody>\n",
              "    <tr>\n",
              "      <th>0</th>\n",
              "      <td>94</td>\n",
              "      <td>94</td>\n",
              "      <td>560000.0</td>\n",
              "      <td>33</td>\n",
              "      <td>96.5</td>\n",
              "      <td>32.000000</td>\n",
              "      <td>77.833333</td>\n",
              "      <td>90.666667</td>\n",
              "      <td>82.000000</td>\n",
              "      <td>86.875</td>\n",
              "      <td>10.8</td>\n",
              "    </tr>\n",
              "    <tr>\n",
              "      <th>1</th>\n",
              "      <td>93</td>\n",
              "      <td>93</td>\n",
              "      <td>400000.0</td>\n",
              "      <td>35</td>\n",
              "      <td>90.5</td>\n",
              "      <td>28.000000</td>\n",
              "      <td>76.666667</td>\n",
              "      <td>81.333333</td>\n",
              "      <td>85.000000</td>\n",
              "      <td>87.500</td>\n",
              "      <td>11.6</td>\n",
              "    </tr>\n",
              "    <tr>\n",
              "      <th>2</th>\n",
              "      <td>92</td>\n",
              "      <td>92</td>\n",
              "      <td>290000.0</td>\n",
              "      <td>28</td>\n",
              "      <td>95.5</td>\n",
              "      <td>31.333333</td>\n",
              "      <td>75.000000</td>\n",
              "      <td>85.000000</td>\n",
              "      <td>79.142857</td>\n",
              "      <td>83.750</td>\n",
              "      <td>11.8</td>\n",
              "    </tr>\n",
              "    <tr>\n",
              "      <th>3</th>\n",
              "      <td>91</td>\n",
              "      <td>92</td>\n",
              "      <td>245000.0</td>\n",
              "      <td>29</td>\n",
              "      <td>73.5</td>\n",
              "      <td>90.666667</td>\n",
              "      <td>77.333333</td>\n",
              "      <td>71.666667</td>\n",
              "      <td>74.857143</td>\n",
              "      <td>65.125</td>\n",
              "      <td>11.6</td>\n",
              "    </tr>\n",
              "    <tr>\n",
              "      <th>4</th>\n",
              "      <td>91</td>\n",
              "      <td>93</td>\n",
              "      <td>125000.0</td>\n",
              "      <td>27</td>\n",
              "      <td>21.0</td>\n",
              "      <td>19.000000</td>\n",
              "      <td>47.500000</td>\n",
              "      <td>32.000000</td>\n",
              "      <td>59.428571</td>\n",
              "      <td>18.500</td>\n",
              "      <td>87.2</td>\n",
              "    </tr>\n",
              "    <tr>\n",
              "      <th>...</th>\n",
              "      <td>...</td>\n",
              "      <td>...</td>\n",
              "      <td>...</td>\n",
              "      <td>...</td>\n",
              "      <td>...</td>\n",
              "      <td>...</td>\n",
              "      <td>...</td>\n",
              "      <td>...</td>\n",
              "      <td>...</td>\n",
              "      <td>...</td>\n",
              "      <td>...</td>\n",
              "    </tr>\n",
              "    <tr>\n",
              "      <th>5959</th>\n",
              "      <td>70</td>\n",
              "      <td>70</td>\n",
              "      <td>3200.0</td>\n",
              "      <td>38</td>\n",
              "      <td>65.5</td>\n",
              "      <td>67.666667</td>\n",
              "      <td>66.000000</td>\n",
              "      <td>61.333333</td>\n",
              "      <td>55.857143</td>\n",
              "      <td>61.875</td>\n",
              "      <td>11.8</td>\n",
              "    </tr>\n",
              "    <tr>\n",
              "      <th>5960</th>\n",
              "      <td>69</td>\n",
              "      <td>79</td>\n",
              "      <td>5300.0</td>\n",
              "      <td>23</td>\n",
              "      <td>51.5</td>\n",
              "      <td>68.000000</td>\n",
              "      <td>56.666667</td>\n",
              "      <td>46.333333</td>\n",
              "      <td>67.142857</td>\n",
              "      <td>33.125</td>\n",
              "      <td>12.4</td>\n",
              "    </tr>\n",
              "    <tr>\n",
              "      <th>5961</th>\n",
              "      <td>69</td>\n",
              "      <td>82</td>\n",
              "      <td>2100.0</td>\n",
              "      <td>19</td>\n",
              "      <td>61.5</td>\n",
              "      <td>67.000000</td>\n",
              "      <td>57.833333</td>\n",
              "      <td>53.666667</td>\n",
              "      <td>62.285714</td>\n",
              "      <td>44.125</td>\n",
              "      <td>10.0</td>\n",
              "    </tr>\n",
              "    <tr>\n",
              "      <th>5962</th>\n",
              "      <td>69</td>\n",
              "      <td>81</td>\n",
              "      <td>4300.0</td>\n",
              "      <td>20</td>\n",
              "      <td>67.5</td>\n",
              "      <td>28.000000</td>\n",
              "      <td>56.166667</td>\n",
              "      <td>59.333333</td>\n",
              "      <td>70.714286</td>\n",
              "      <td>60.625</td>\n",
              "      <td>10.2</td>\n",
              "    </tr>\n",
              "    <tr>\n",
              "      <th>5963</th>\n",
              "      <td>69</td>\n",
              "      <td>72</td>\n",
              "      <td>4000.0</td>\n",
              "      <td>26</td>\n",
              "      <td>75.5</td>\n",
              "      <td>54.000000</td>\n",
              "      <td>63.833333</td>\n",
              "      <td>64.333333</td>\n",
              "      <td>72.142857</td>\n",
              "      <td>49.375</td>\n",
              "      <td>9.6</td>\n",
              "    </tr>\n",
              "  </tbody>\n",
              "</table>\n",
              "<p>5851 rows × 11 columns</p>\n",
              "</div>"
            ],
            "text/plain": [
              "      Overall Score  Potential Score  ...  Shooting  Goalkeeping\n",
              "0                94               94  ...    86.875         10.8\n",
              "1                93               93  ...    87.500         11.6\n",
              "2                92               92  ...    83.750         11.8\n",
              "3                91               92  ...    65.125         11.6\n",
              "4                91               93  ...    18.500         87.2\n",
              "...             ...              ...  ...       ...          ...\n",
              "5959             70               70  ...    61.875         11.8\n",
              "5960             69               79  ...    33.125         12.4\n",
              "5961             69               82  ...    44.125         10.0\n",
              "5962             69               81  ...    60.625         10.2\n",
              "5963             69               72  ...    49.375          9.6\n",
              "\n",
              "[5851 rows x 11 columns]"
            ]
          },
          "metadata": {},
          "execution_count": 91
        }
      ]
    },
    {
      "cell_type": "code",
      "metadata": {
        "colab": {
          "base_uri": "https://localhost:8080/"
        },
        "id": "cAFONBPQemVe",
        "outputId": "089de794-caec-4f50-fe3e-6098d387791f"
      },
      "source": [
        "y"
      ],
      "execution_count": 92,
      "outputs": [
        {
          "output_type": "execute_result",
          "data": {
            "text/plain": [
              "0        95500000.0\n",
              "1        58500000.0\n",
              "2       105500000.0\n",
              "3        90000000.0\n",
              "4        77500000.0\n",
              "           ...     \n",
              "5959       275000.0\n",
              "5960      1500000.0\n",
              "5961      1700000.0\n",
              "5962      1800000.0\n",
              "5963      1300000.0\n",
              "Name: Market Value, Length: 5851, dtype: float64"
            ]
          },
          "metadata": {},
          "execution_count": 92
        }
      ]
    },
    {
      "cell_type": "code",
      "metadata": {
        "id": "Cu2hFLmIoPis"
      },
      "source": [
        "# scaling the columns\n",
        "from sklearn.preprocessing import MinMaxScaler\n",
        "x = X.values\n",
        "scaler = MinMaxScaler()\n",
        "scaled_x = scaler.fit_transform(x)\n",
        "X_new = pd.DataFrame(scaled_x, columns = X.columns)"
      ],
      "execution_count": 93,
      "outputs": []
    },
    {
      "cell_type": "code",
      "metadata": {
        "colab": {
          "base_uri": "https://localhost:8080/"
        },
        "id": "eNO89FJ-eoIW",
        "outputId": "e8264b54-360b-4b27-ddaf-b5823bcede72"
      },
      "source": [
        "# checking skewness\n",
        "X_new.skew(axis = 0, skipna = True)"
      ],
      "execution_count": 94,
      "outputs": [
        {
          "output_type": "execute_result",
          "data": {
            "text/plain": [
              "Overall Score      1.324204\n",
              "Potential Score    0.706764\n",
              "Weekly Salary      5.255223\n",
              "Age                0.177488\n",
              "Ball Skills       -1.811319\n",
              "Defence           -0.427597\n",
              "Mental            -1.217702\n",
              "Passing           -1.538881\n",
              "Physical          -1.176813\n",
              "Shooting          -1.071795\n",
              "Goalkeeping        2.811066\n",
              "dtype: float64"
            ]
          },
          "metadata": {},
          "execution_count": 94
        }
      ]
    },
    {
      "cell_type": "code",
      "metadata": {
        "colab": {
          "base_uri": "https://localhost:8080/",
          "height": 417
        },
        "id": "y-9l-soswmAh",
        "outputId": "d53cd405-a65b-46e2-a088-5a7252c38c26"
      },
      "source": [
        "X_new"
      ],
      "execution_count": 95,
      "outputs": [
        {
          "output_type": "execute_result",
          "data": {
            "text/html": [
              "<div>\n",
              "<style scoped>\n",
              "    .dataframe tbody tr th:only-of-type {\n",
              "        vertical-align: middle;\n",
              "    }\n",
              "\n",
              "    .dataframe tbody tr th {\n",
              "        vertical-align: top;\n",
              "    }\n",
              "\n",
              "    .dataframe thead th {\n",
              "        text-align: right;\n",
              "    }\n",
              "</style>\n",
              "<table border=\"1\" class=\"dataframe\">\n",
              "  <thead>\n",
              "    <tr style=\"text-align: right;\">\n",
              "      <th></th>\n",
              "      <th>Overall Score</th>\n",
              "      <th>Potential Score</th>\n",
              "      <th>Weekly Salary</th>\n",
              "      <th>Age</th>\n",
              "      <th>Ball Skills</th>\n",
              "      <th>Defence</th>\n",
              "      <th>Mental</th>\n",
              "      <th>Passing</th>\n",
              "      <th>Physical</th>\n",
              "      <th>Shooting</th>\n",
              "      <th>Goalkeeping</th>\n",
              "    </tr>\n",
              "  </thead>\n",
              "  <tbody>\n",
              "    <tr>\n",
              "      <th>0</th>\n",
              "      <td>1.00</td>\n",
              "      <td>0.96</td>\n",
              "      <td>1.000000</td>\n",
              "      <td>0.64</td>\n",
              "      <td>1.000000</td>\n",
              "      <td>0.281633</td>\n",
              "      <td>0.870523</td>\n",
              "      <td>0.979757</td>\n",
              "      <td>0.913953</td>\n",
              "      <td>0.991653</td>\n",
              "      <td>0.112903</td>\n",
              "    </tr>\n",
              "    <tr>\n",
              "      <th>1</th>\n",
              "      <td>0.96</td>\n",
              "      <td>0.92</td>\n",
              "      <td>0.713518</td>\n",
              "      <td>0.72</td>\n",
              "      <td>0.932584</td>\n",
              "      <td>0.232653</td>\n",
              "      <td>0.851240</td>\n",
              "      <td>0.866397</td>\n",
              "      <td>0.962791</td>\n",
              "      <td>1.000000</td>\n",
              "      <td>0.122120</td>\n",
              "    </tr>\n",
              "    <tr>\n",
              "      <th>2</th>\n",
              "      <td>0.92</td>\n",
              "      <td>0.88</td>\n",
              "      <td>0.516562</td>\n",
              "      <td>0.44</td>\n",
              "      <td>0.988764</td>\n",
              "      <td>0.273469</td>\n",
              "      <td>0.823691</td>\n",
              "      <td>0.910931</td>\n",
              "      <td>0.867442</td>\n",
              "      <td>0.949917</td>\n",
              "      <td>0.124424</td>\n",
              "    </tr>\n",
              "    <tr>\n",
              "      <th>3</th>\n",
              "      <td>0.88</td>\n",
              "      <td>0.88</td>\n",
              "      <td>0.435989</td>\n",
              "      <td>0.48</td>\n",
              "      <td>0.741573</td>\n",
              "      <td>1.000000</td>\n",
              "      <td>0.862259</td>\n",
              "      <td>0.748988</td>\n",
              "      <td>0.797674</td>\n",
              "      <td>0.701169</td>\n",
              "      <td>0.122120</td>\n",
              "    </tr>\n",
              "    <tr>\n",
              "      <th>4</th>\n",
              "      <td>0.88</td>\n",
              "      <td>0.92</td>\n",
              "      <td>0.221128</td>\n",
              "      <td>0.40</td>\n",
              "      <td>0.151685</td>\n",
              "      <td>0.122449</td>\n",
              "      <td>0.369146</td>\n",
              "      <td>0.267206</td>\n",
              "      <td>0.546512</td>\n",
              "      <td>0.078464</td>\n",
              "      <td>0.993088</td>\n",
              "    </tr>\n",
              "    <tr>\n",
              "      <th>...</th>\n",
              "      <td>...</td>\n",
              "      <td>...</td>\n",
              "      <td>...</td>\n",
              "      <td>...</td>\n",
              "      <td>...</td>\n",
              "      <td>...</td>\n",
              "      <td>...</td>\n",
              "      <td>...</td>\n",
              "      <td>...</td>\n",
              "      <td>...</td>\n",
              "      <td>...</td>\n",
              "    </tr>\n",
              "    <tr>\n",
              "      <th>5846</th>\n",
              "      <td>0.04</td>\n",
              "      <td>0.00</td>\n",
              "      <td>0.003044</td>\n",
              "      <td>0.84</td>\n",
              "      <td>0.651685</td>\n",
              "      <td>0.718367</td>\n",
              "      <td>0.674931</td>\n",
              "      <td>0.623482</td>\n",
              "      <td>0.488372</td>\n",
              "      <td>0.657763</td>\n",
              "      <td>0.124424</td>\n",
              "    </tr>\n",
              "    <tr>\n",
              "      <th>5847</th>\n",
              "      <td>0.00</td>\n",
              "      <td>0.36</td>\n",
              "      <td>0.006804</td>\n",
              "      <td>0.24</td>\n",
              "      <td>0.494382</td>\n",
              "      <td>0.722449</td>\n",
              "      <td>0.520661</td>\n",
              "      <td>0.441296</td>\n",
              "      <td>0.672093</td>\n",
              "      <td>0.273790</td>\n",
              "      <td>0.131336</td>\n",
              "    </tr>\n",
              "    <tr>\n",
              "      <th>5848</th>\n",
              "      <td>0.00</td>\n",
              "      <td>0.48</td>\n",
              "      <td>0.001074</td>\n",
              "      <td>0.08</td>\n",
              "      <td>0.606742</td>\n",
              "      <td>0.710204</td>\n",
              "      <td>0.539945</td>\n",
              "      <td>0.530364</td>\n",
              "      <td>0.593023</td>\n",
              "      <td>0.420701</td>\n",
              "      <td>0.103687</td>\n",
              "    </tr>\n",
              "    <tr>\n",
              "      <th>5849</th>\n",
              "      <td>0.00</td>\n",
              "      <td>0.44</td>\n",
              "      <td>0.005013</td>\n",
              "      <td>0.12</td>\n",
              "      <td>0.674157</td>\n",
              "      <td>0.232653</td>\n",
              "      <td>0.512397</td>\n",
              "      <td>0.599190</td>\n",
              "      <td>0.730233</td>\n",
              "      <td>0.641068</td>\n",
              "      <td>0.105991</td>\n",
              "    </tr>\n",
              "    <tr>\n",
              "      <th>5850</th>\n",
              "      <td>0.00</td>\n",
              "      <td>0.08</td>\n",
              "      <td>0.004476</td>\n",
              "      <td>0.36</td>\n",
              "      <td>0.764045</td>\n",
              "      <td>0.551020</td>\n",
              "      <td>0.639118</td>\n",
              "      <td>0.659919</td>\n",
              "      <td>0.753488</td>\n",
              "      <td>0.490818</td>\n",
              "      <td>0.099078</td>\n",
              "    </tr>\n",
              "  </tbody>\n",
              "</table>\n",
              "<p>5851 rows × 11 columns</p>\n",
              "</div>"
            ],
            "text/plain": [
              "      Overall Score  Potential Score  ...  Shooting  Goalkeeping\n",
              "0              1.00             0.96  ...  0.991653     0.112903\n",
              "1              0.96             0.92  ...  1.000000     0.122120\n",
              "2              0.92             0.88  ...  0.949917     0.124424\n",
              "3              0.88             0.88  ...  0.701169     0.122120\n",
              "4              0.88             0.92  ...  0.078464     0.993088\n",
              "...             ...              ...  ...       ...          ...\n",
              "5846           0.04             0.00  ...  0.657763     0.124424\n",
              "5847           0.00             0.36  ...  0.273790     0.131336\n",
              "5848           0.00             0.48  ...  0.420701     0.103687\n",
              "5849           0.00             0.44  ...  0.641068     0.105991\n",
              "5850           0.00             0.08  ...  0.490818     0.099078\n",
              "\n",
              "[5851 rows x 11 columns]"
            ]
          },
          "metadata": {},
          "execution_count": 95
        }
      ]
    },
    {
      "cell_type": "code",
      "metadata": {
        "id": "B3cWjRSCfFol"
      },
      "source": [
        "from sklearn.metrics import mean_squared_error, r2_score"
      ],
      "execution_count": 96,
      "outputs": []
    },
    {
      "cell_type": "code",
      "metadata": {
        "id": "2gV073JxwoJD"
      },
      "source": [
        "# splitting the data into sets\n",
        "X_train, X_test, y_train, y_test = train_test_split(X_new, y, test_size = 0.2)"
      ],
      "execution_count": 97,
      "outputs": []
    },
    {
      "cell_type": "code",
      "metadata": {
        "colab": {
          "base_uri": "https://localhost:8080/",
          "height": 417
        },
        "id": "NZ8qHcvD4Inh",
        "outputId": "22f8b53b-6fa8-42cf-bf2c-96f8c20968f5"
      },
      "source": [
        "X_train"
      ],
      "execution_count": 98,
      "outputs": [
        {
          "output_type": "execute_result",
          "data": {
            "text/html": [
              "<div>\n",
              "<style scoped>\n",
              "    .dataframe tbody tr th:only-of-type {\n",
              "        vertical-align: middle;\n",
              "    }\n",
              "\n",
              "    .dataframe tbody tr th {\n",
              "        vertical-align: top;\n",
              "    }\n",
              "\n",
              "    .dataframe thead th {\n",
              "        text-align: right;\n",
              "    }\n",
              "</style>\n",
              "<table border=\"1\" class=\"dataframe\">\n",
              "  <thead>\n",
              "    <tr style=\"text-align: right;\">\n",
              "      <th></th>\n",
              "      <th>Overall Score</th>\n",
              "      <th>Potential Score</th>\n",
              "      <th>Weekly Salary</th>\n",
              "      <th>Age</th>\n",
              "      <th>Ball Skills</th>\n",
              "      <th>Defence</th>\n",
              "      <th>Mental</th>\n",
              "      <th>Passing</th>\n",
              "      <th>Physical</th>\n",
              "      <th>Shooting</th>\n",
              "      <th>Goalkeeping</th>\n",
              "    </tr>\n",
              "  </thead>\n",
              "  <tbody>\n",
              "    <tr>\n",
              "      <th>5493</th>\n",
              "      <td>0.04</td>\n",
              "      <td>0.00</td>\n",
              "      <td>0.007341</td>\n",
              "      <td>0.52</td>\n",
              "      <td>0.707865</td>\n",
              "      <td>0.363265</td>\n",
              "      <td>0.523416</td>\n",
              "      <td>0.728745</td>\n",
              "      <td>0.716279</td>\n",
              "      <td>0.734558</td>\n",
              "      <td>0.112903</td>\n",
              "    </tr>\n",
              "    <tr>\n",
              "      <th>5415</th>\n",
              "      <td>0.04</td>\n",
              "      <td>0.04</td>\n",
              "      <td>0.009848</td>\n",
              "      <td>0.56</td>\n",
              "      <td>0.106742</td>\n",
              "      <td>0.097959</td>\n",
              "      <td>0.176309</td>\n",
              "      <td>0.198381</td>\n",
              "      <td>0.413953</td>\n",
              "      <td>0.232053</td>\n",
              "      <td>0.792627</td>\n",
              "    </tr>\n",
              "    <tr>\n",
              "      <th>5528</th>\n",
              "      <td>0.04</td>\n",
              "      <td>0.04</td>\n",
              "      <td>0.013787</td>\n",
              "      <td>0.40</td>\n",
              "      <td>0.634831</td>\n",
              "      <td>0.351020</td>\n",
              "      <td>0.528926</td>\n",
              "      <td>0.542510</td>\n",
              "      <td>0.730233</td>\n",
              "      <td>0.621035</td>\n",
              "      <td>0.131336</td>\n",
              "    </tr>\n",
              "    <tr>\n",
              "      <th>3791</th>\n",
              "      <td>0.12</td>\n",
              "      <td>0.20</td>\n",
              "      <td>0.074306</td>\n",
              "      <td>0.40</td>\n",
              "      <td>0.713483</td>\n",
              "      <td>0.183673</td>\n",
              "      <td>0.639118</td>\n",
              "      <td>0.631579</td>\n",
              "      <td>0.713953</td>\n",
              "      <td>0.717863</td>\n",
              "      <td>0.101382</td>\n",
              "    </tr>\n",
              "    <tr>\n",
              "      <th>4306</th>\n",
              "      <td>0.08</td>\n",
              "      <td>0.12</td>\n",
              "      <td>0.016115</td>\n",
              "      <td>0.28</td>\n",
              "      <td>0.747191</td>\n",
              "      <td>0.118367</td>\n",
              "      <td>0.333333</td>\n",
              "      <td>0.481781</td>\n",
              "      <td>0.690698</td>\n",
              "      <td>0.691152</td>\n",
              "      <td>0.105991</td>\n",
              "    </tr>\n",
              "    <tr>\n",
              "      <th>...</th>\n",
              "      <td>...</td>\n",
              "      <td>...</td>\n",
              "      <td>...</td>\n",
              "      <td>...</td>\n",
              "      <td>...</td>\n",
              "      <td>...</td>\n",
              "      <td>...</td>\n",
              "      <td>...</td>\n",
              "      <td>...</td>\n",
              "      <td>...</td>\n",
              "      <td>...</td>\n",
              "    </tr>\n",
              "    <tr>\n",
              "      <th>1807</th>\n",
              "      <td>0.24</td>\n",
              "      <td>0.20</td>\n",
              "      <td>0.024172</td>\n",
              "      <td>0.60</td>\n",
              "      <td>0.730337</td>\n",
              "      <td>0.759184</td>\n",
              "      <td>0.765840</td>\n",
              "      <td>0.700405</td>\n",
              "      <td>0.888372</td>\n",
              "      <td>0.654424</td>\n",
              "      <td>0.105991</td>\n",
              "    </tr>\n",
              "    <tr>\n",
              "      <th>5475</th>\n",
              "      <td>0.04</td>\n",
              "      <td>0.20</td>\n",
              "      <td>0.007520</td>\n",
              "      <td>0.32</td>\n",
              "      <td>0.606742</td>\n",
              "      <td>0.742857</td>\n",
              "      <td>0.570248</td>\n",
              "      <td>0.672065</td>\n",
              "      <td>0.637209</td>\n",
              "      <td>0.429048</td>\n",
              "      <td>0.064516</td>\n",
              "    </tr>\n",
              "    <tr>\n",
              "      <th>2491</th>\n",
              "      <td>0.20</td>\n",
              "      <td>0.20</td>\n",
              "      <td>0.011280</td>\n",
              "      <td>0.52</td>\n",
              "      <td>0.101124</td>\n",
              "      <td>0.089796</td>\n",
              "      <td>0.272727</td>\n",
              "      <td>0.251012</td>\n",
              "      <td>0.513953</td>\n",
              "      <td>0.111853</td>\n",
              "      <td>0.827189</td>\n",
              "    </tr>\n",
              "    <tr>\n",
              "      <th>3951</th>\n",
              "      <td>0.12</td>\n",
              "      <td>0.08</td>\n",
              "      <td>0.016115</td>\n",
              "      <td>0.68</td>\n",
              "      <td>0.724719</td>\n",
              "      <td>0.175510</td>\n",
              "      <td>0.691460</td>\n",
              "      <td>0.574899</td>\n",
              "      <td>0.730233</td>\n",
              "      <td>0.707846</td>\n",
              "      <td>0.112903</td>\n",
              "    </tr>\n",
              "    <tr>\n",
              "      <th>4868</th>\n",
              "      <td>0.08</td>\n",
              "      <td>0.04</td>\n",
              "      <td>0.010564</td>\n",
              "      <td>0.72</td>\n",
              "      <td>0.713483</td>\n",
              "      <td>0.334694</td>\n",
              "      <td>0.710744</td>\n",
              "      <td>0.623482</td>\n",
              "      <td>0.518605</td>\n",
              "      <td>0.712855</td>\n",
              "      <td>0.119816</td>\n",
              "    </tr>\n",
              "  </tbody>\n",
              "</table>\n",
              "<p>4680 rows × 11 columns</p>\n",
              "</div>"
            ],
            "text/plain": [
              "      Overall Score  Potential Score  ...  Shooting  Goalkeeping\n",
              "5493           0.04             0.00  ...  0.734558     0.112903\n",
              "5415           0.04             0.04  ...  0.232053     0.792627\n",
              "5528           0.04             0.04  ...  0.621035     0.131336\n",
              "3791           0.12             0.20  ...  0.717863     0.101382\n",
              "4306           0.08             0.12  ...  0.691152     0.105991\n",
              "...             ...              ...  ...       ...          ...\n",
              "1807           0.24             0.20  ...  0.654424     0.105991\n",
              "5475           0.04             0.20  ...  0.429048     0.064516\n",
              "2491           0.20             0.20  ...  0.111853     0.827189\n",
              "3951           0.12             0.08  ...  0.707846     0.112903\n",
              "4868           0.08             0.04  ...  0.712855     0.119816\n",
              "\n",
              "[4680 rows x 11 columns]"
            ]
          },
          "metadata": {},
          "execution_count": 98
        }
      ]
    },
    {
      "cell_type": "code",
      "metadata": {
        "colab": {
          "base_uri": "https://localhost:8080/",
          "height": 417
        },
        "id": "o10HhiTI4Jom",
        "outputId": "95a406ea-562a-4477-cda9-88f2e968e7b5"
      },
      "source": [
        "X_test"
      ],
      "execution_count": 99,
      "outputs": [
        {
          "output_type": "execute_result",
          "data": {
            "text/html": [
              "<div>\n",
              "<style scoped>\n",
              "    .dataframe tbody tr th:only-of-type {\n",
              "        vertical-align: middle;\n",
              "    }\n",
              "\n",
              "    .dataframe tbody tr th {\n",
              "        vertical-align: top;\n",
              "    }\n",
              "\n",
              "    .dataframe thead th {\n",
              "        text-align: right;\n",
              "    }\n",
              "</style>\n",
              "<table border=\"1\" class=\"dataframe\">\n",
              "  <thead>\n",
              "    <tr style=\"text-align: right;\">\n",
              "      <th></th>\n",
              "      <th>Overall Score</th>\n",
              "      <th>Potential Score</th>\n",
              "      <th>Weekly Salary</th>\n",
              "      <th>Age</th>\n",
              "      <th>Ball Skills</th>\n",
              "      <th>Defence</th>\n",
              "      <th>Mental</th>\n",
              "      <th>Passing</th>\n",
              "      <th>Physical</th>\n",
              "      <th>Shooting</th>\n",
              "      <th>Goalkeeping</th>\n",
              "    </tr>\n",
              "  </thead>\n",
              "  <tbody>\n",
              "    <tr>\n",
              "      <th>4243</th>\n",
              "      <td>0.08</td>\n",
              "      <td>0.36</td>\n",
              "      <td>0.017905</td>\n",
              "      <td>0.20</td>\n",
              "      <td>0.567416</td>\n",
              "      <td>0.751020</td>\n",
              "      <td>0.564738</td>\n",
              "      <td>0.538462</td>\n",
              "      <td>0.627907</td>\n",
              "      <td>0.320534</td>\n",
              "      <td>0.089862</td>\n",
              "    </tr>\n",
              "    <tr>\n",
              "      <th>4505</th>\n",
              "      <td>0.08</td>\n",
              "      <td>0.08</td>\n",
              "      <td>0.002149</td>\n",
              "      <td>0.40</td>\n",
              "      <td>0.702247</td>\n",
              "      <td>0.444898</td>\n",
              "      <td>0.606061</td>\n",
              "      <td>0.773279</td>\n",
              "      <td>0.774419</td>\n",
              "      <td>0.621035</td>\n",
              "      <td>0.135945</td>\n",
              "    </tr>\n",
              "    <tr>\n",
              "      <th>5328</th>\n",
              "      <td>0.04</td>\n",
              "      <td>0.16</td>\n",
              "      <td>0.003581</td>\n",
              "      <td>0.32</td>\n",
              "      <td>0.691011</td>\n",
              "      <td>0.718367</td>\n",
              "      <td>0.619835</td>\n",
              "      <td>0.724696</td>\n",
              "      <td>0.718605</td>\n",
              "      <td>0.559265</td>\n",
              "      <td>0.108295</td>\n",
              "    </tr>\n",
              "    <tr>\n",
              "      <th>4619</th>\n",
              "      <td>0.08</td>\n",
              "      <td>0.32</td>\n",
              "      <td>0.040286</td>\n",
              "      <td>0.32</td>\n",
              "      <td>0.679775</td>\n",
              "      <td>0.742857</td>\n",
              "      <td>0.732782</td>\n",
              "      <td>0.736842</td>\n",
              "      <td>0.686047</td>\n",
              "      <td>0.564274</td>\n",
              "      <td>0.112903</td>\n",
              "    </tr>\n",
              "    <tr>\n",
              "      <th>4625</th>\n",
              "      <td>0.08</td>\n",
              "      <td>0.08</td>\n",
              "      <td>0.010922</td>\n",
              "      <td>0.40</td>\n",
              "      <td>0.702247</td>\n",
              "      <td>0.318367</td>\n",
              "      <td>0.575758</td>\n",
              "      <td>0.566802</td>\n",
              "      <td>0.783721</td>\n",
              "      <td>0.652755</td>\n",
              "      <td>0.089862</td>\n",
              "    </tr>\n",
              "    <tr>\n",
              "      <th>...</th>\n",
              "      <td>...</td>\n",
              "      <td>...</td>\n",
              "      <td>...</td>\n",
              "      <td>...</td>\n",
              "      <td>...</td>\n",
              "      <td>...</td>\n",
              "      <td>...</td>\n",
              "      <td>...</td>\n",
              "      <td>...</td>\n",
              "      <td>...</td>\n",
              "      <td>...</td>\n",
              "    </tr>\n",
              "    <tr>\n",
              "      <th>4982</th>\n",
              "      <td>0.04</td>\n",
              "      <td>0.32</td>\n",
              "      <td>0.009132</td>\n",
              "      <td>0.20</td>\n",
              "      <td>0.747191</td>\n",
              "      <td>0.220408</td>\n",
              "      <td>0.413223</td>\n",
              "      <td>0.708502</td>\n",
              "      <td>0.751163</td>\n",
              "      <td>0.609349</td>\n",
              "      <td>0.129032</td>\n",
              "    </tr>\n",
              "    <tr>\n",
              "      <th>461</th>\n",
              "      <td>0.44</td>\n",
              "      <td>0.52</td>\n",
              "      <td>0.056401</td>\n",
              "      <td>0.32</td>\n",
              "      <td>0.859551</td>\n",
              "      <td>0.195918</td>\n",
              "      <td>0.633609</td>\n",
              "      <td>0.829960</td>\n",
              "      <td>0.758140</td>\n",
              "      <td>0.749583</td>\n",
              "      <td>0.115207</td>\n",
              "    </tr>\n",
              "    <tr>\n",
              "      <th>2747</th>\n",
              "      <td>0.16</td>\n",
              "      <td>0.16</td>\n",
              "      <td>0.034020</td>\n",
              "      <td>0.40</td>\n",
              "      <td>0.702247</td>\n",
              "      <td>0.436735</td>\n",
              "      <td>0.556474</td>\n",
              "      <td>0.672065</td>\n",
              "      <td>0.848837</td>\n",
              "      <td>0.609349</td>\n",
              "      <td>0.082949</td>\n",
              "    </tr>\n",
              "    <tr>\n",
              "      <th>4620</th>\n",
              "      <td>0.08</td>\n",
              "      <td>0.24</td>\n",
              "      <td>0.030439</td>\n",
              "      <td>0.36</td>\n",
              "      <td>0.713483</td>\n",
              "      <td>0.681633</td>\n",
              "      <td>0.669421</td>\n",
              "      <td>0.744939</td>\n",
              "      <td>0.848837</td>\n",
              "      <td>0.569282</td>\n",
              "      <td>0.126728</td>\n",
              "    </tr>\n",
              "    <tr>\n",
              "      <th>573</th>\n",
              "      <td>0.40</td>\n",
              "      <td>0.36</td>\n",
              "      <td>0.044763</td>\n",
              "      <td>0.48</td>\n",
              "      <td>0.735955</td>\n",
              "      <td>0.836735</td>\n",
              "      <td>0.856749</td>\n",
              "      <td>0.834008</td>\n",
              "      <td>0.732558</td>\n",
              "      <td>0.846411</td>\n",
              "      <td>0.122120</td>\n",
              "    </tr>\n",
              "  </tbody>\n",
              "</table>\n",
              "<p>1171 rows × 11 columns</p>\n",
              "</div>"
            ],
            "text/plain": [
              "      Overall Score  Potential Score  ...  Shooting  Goalkeeping\n",
              "4243           0.08             0.36  ...  0.320534     0.089862\n",
              "4505           0.08             0.08  ...  0.621035     0.135945\n",
              "5328           0.04             0.16  ...  0.559265     0.108295\n",
              "4619           0.08             0.32  ...  0.564274     0.112903\n",
              "4625           0.08             0.08  ...  0.652755     0.089862\n",
              "...             ...              ...  ...       ...          ...\n",
              "4982           0.04             0.32  ...  0.609349     0.129032\n",
              "461            0.44             0.52  ...  0.749583     0.115207\n",
              "2747           0.16             0.16  ...  0.609349     0.082949\n",
              "4620           0.08             0.24  ...  0.569282     0.126728\n",
              "573            0.40             0.36  ...  0.846411     0.122120\n",
              "\n",
              "[1171 rows x 11 columns]"
            ]
          },
          "metadata": {},
          "execution_count": 99
        }
      ]
    },
    {
      "cell_type": "code",
      "metadata": {
        "colab": {
          "base_uri": "https://localhost:8080/"
        },
        "id": "kNxRq9sM4K98",
        "outputId": "199ed71d-1c92-48f0-eddc-64504b18a83b"
      },
      "source": [
        "y_train"
      ],
      "execution_count": 100,
      "outputs": [
        {
          "output_type": "execute_result",
          "data": {
            "text/plain": [
              "5603    1700000.0\n",
              "5523    1400000.0\n",
              "5638    2100000.0\n",
              "3867    4000000.0\n",
              "4389    3000000.0\n",
              "          ...    \n",
              "1849    5500000.0\n",
              "5584    2100000.0\n",
              "2541    4600000.0\n",
              "4030    2500000.0\n",
              "4961    1200000.0\n",
              "Name: Market Value, Length: 4680, dtype: float64"
            ]
          },
          "metadata": {},
          "execution_count": 100
        }
      ]
    },
    {
      "cell_type": "code",
      "metadata": {
        "colab": {
          "base_uri": "https://localhost:8080/"
        },
        "id": "RHjXwC184MUx",
        "outputId": "f37d1da3-b206-45e7-9dd2-8b4791087fd0"
      },
      "source": [
        "y_test"
      ],
      "execution_count": 101,
      "outputs": [
        {
          "output_type": "execute_result",
          "data": {
            "text/plain": [
              "4326     3200000.0\n",
              "4592     2700000.0\n",
              "5433     2000000.0\n",
              "4708     3000000.0\n",
              "4714     2800000.0\n",
              "           ...    \n",
              "5084     2700000.0\n",
              "470     19000000.0\n",
              "2803     4800000.0\n",
              "4709     2800000.0\n",
              "587     12500000.0\n",
              "Name: Market Value, Length: 1171, dtype: float64"
            ]
          },
          "metadata": {},
          "execution_count": 101
        }
      ]
    },
    {
      "cell_type": "code",
      "metadata": {
        "colab": {
          "base_uri": "https://localhost:8080/"
        },
        "id": "nKmkZyIE4OMg",
        "outputId": "6feb0f57-5ffb-48b0-ec15-8b8f49e90b68"
      },
      "source": [
        "# for linear regression\n",
        "from sklearn.linear_model import LinearRegression\n",
        "linreg = LinearRegression()\n",
        "linreg.fit(X_train, y_train)\n",
        "lin_pred = linreg.predict(X_test)\n",
        "lin_pred"
      ],
      "execution_count": 102,
      "outputs": [
        {
          "output_type": "execute_result",
          "data": {
            "text/plain": [
              "array([ 3537806.73827367,  1231724.13705698,   211314.83317247, ...,\n",
              "        6058380.48854094,  3048431.81274624, 12833949.53497888])"
            ]
          },
          "metadata": {},
          "execution_count": 102
        }
      ]
    },
    {
      "cell_type": "code",
      "metadata": {
        "colab": {
          "base_uri": "https://localhost:8080/"
        },
        "id": "_Q42wEHe4xFN",
        "outputId": "0e16f9a6-3ef7-4b19-b996-d48fc20eca81"
      },
      "source": [
        "# coefficients\n",
        "print(\"Coefficients: \\n\", linreg.coef_)"
      ],
      "execution_count": 103,
      "outputs": [
        {
          "output_type": "stream",
          "name": "stdout",
          "text": [
            "Coefficients: \n",
            " [32517587.27981622  1183241.28607852 58403152.73423924 -8310906.21298346\n",
            " -3266161.28369307 -1673606.46092842 -1127280.82399068  1199965.25025243\n",
            "  2298944.75050708   324217.93103587 -2902451.91417868]\n"
          ]
        }
      ]
    },
    {
      "cell_type": "code",
      "metadata": {
        "colab": {
          "base_uri": "https://localhost:8080/"
        },
        "id": "VKvwxapBHvCM",
        "outputId": "03a8c7d7-8bd6-4b0e-8e6b-b1b0f70720e6"
      },
      "source": [
        "# mean squared error\n",
        "print(\"Mean squared error: %.2f\" % mean_squared_error(y_test, lin_pred))"
      ],
      "execution_count": 104,
      "outputs": [
        {
          "output_type": "stream",
          "name": "stdout",
          "text": [
            "Mean squared error: 9920210580896.77\n"
          ]
        }
      ]
    },
    {
      "cell_type": "code",
      "metadata": {
        "colab": {
          "base_uri": "https://localhost:8080/"
        },
        "id": "JeC4v8PsKg1b",
        "outputId": "87f4c873-56f5-4a3d-8232-b4527c234c5e"
      },
      "source": [
        "# The coefficient of determination: 1 is perfect prediction\n",
        "print(\"Coefficient of determination: %.2f\" % r2_score(y_test, lin_pred))"
      ],
      "execution_count": 105,
      "outputs": [
        {
          "output_type": "stream",
          "name": "stdout",
          "text": [
            "Coefficient of determination: 0.84\n"
          ]
        }
      ]
    },
    {
      "cell_type": "code",
      "metadata": {
        "colab": {
          "base_uri": "https://localhost:8080/",
          "height": 307
        },
        "id": "tIcZ9vTJIA4y",
        "outputId": "8d8cb8d4-63cd-4e15-bfdd-3d152f1cdd13"
      },
      "source": [
        "sns.regplot(x=y_test, y=lin_pred, ci=None, color=\"b\")"
      ],
      "execution_count": 106,
      "outputs": [
        {
          "output_type": "execute_result",
          "data": {
            "text/plain": [
              "<matplotlib.axes._subplots.AxesSubplot at 0x7f5e77608a10>"
            ]
          },
          "metadata": {},
          "execution_count": 106
        },
        {
          "output_type": "display_data",
          "data": {
            "image/png": "[encoded data removed]",
            "text/plain": [
              "<Figure size 432x288 with 1 Axes>"
            ]
          },
          "metadata": {
            "needs_background": "light"
          }
        }
      ]
    },
    {
      "cell_type": "code",
      "metadata": {
        "colab": {
          "base_uri": "https://localhost:8080/"
        },
        "id": "ViHsd5xFJ6TP",
        "outputId": "97f62a5b-1da4-4267-f9d7-871a00f7d4a8"
      },
      "source": [
        "# Polynomial regression\n",
        "from sklearn.preprocessing import PolynomialFeatures\n",
        "from sklearn.pipeline import Pipeline\n",
        "\n",
        "pol_features = PolynomialFeatures(degree = 3)\n",
        "pol = LinearRegression()\n",
        "\n",
        "pol_model = Pipeline(steps = [(\"polyFeature\", pol_features), (\"regressor\", pol)])\n",
        "pol_model.fit(X_train, y_train)\n",
        "\n",
        "pol_pred = pol_model.predict(X_test)\n",
        "pol_pred"
      ],
      "execution_count": 107,
      "outputs": [
        {
          "output_type": "execute_result",
          "data": {
            "text/plain": [
              "array([ 3203030.63307289,  2858034.18367832,  2057635.31363714, ...,\n",
              "        4756386.75304135,  3172513.71998959, 12216348.78634137])"
            ]
          },
          "metadata": {},
          "execution_count": 107
        }
      ]
    },
    {
      "cell_type": "code",
      "metadata": {
        "colab": {
          "base_uri": "https://localhost:8080/"
        },
        "id": "ZP6kWyPAmKDb",
        "outputId": "af63323b-28f1-4d74-e527-c3334e385945"
      },
      "source": [
        "# coefficients\n",
        "print(\"Coefficients: \\n\", pol_model.named_steps['regressor'].coef_)"
      ],
      "execution_count": 108,
      "outputs": [
        {
          "output_type": "stream",
          "name": "stdout",
          "text": [
            "Coefficients: \n",
            " [-3.12096344e-07 -1.21387762e+06  7.61509098e+06  2.30931648e+08\n",
            "  2.13320083e+07  9.36710453e+06  2.05888488e+07  1.02017692e+07\n",
            " -5.84460315e+07 -8.23439015e+06  7.53082862e+07  5.74277870e+07\n",
            " -1.84727385e+07 -1.87869460e+07  2.00359772e+08  9.75653988e+07\n",
            " -3.46296641e+07  1.76203761e+07 -5.18466714e+07  1.00048041e+08\n",
            " -2.15396308e+07  1.23969958e+07  3.80007018e+06 -1.64146203e+07\n",
            "  2.37658084e+08 -4.63306796e+07  2.15739193e+07 -1.05431974e+07\n",
            "  3.32087173e+07 -1.16209546e+07  2.09159744e+07 -4.75819697e+07\n",
            "  1.56404002e+07 -1.10789926e+07  2.40442762e+08 -3.66408345e+08\n",
            " -5.58122106e+07 -2.09230181e+08 -4.21306559e+08  8.06483393e+07\n",
            "  8.82114135e+07 -6.15447222e+08 -1.67429500e+07 -1.59084595e+07\n",
            " -2.26074733e+07  8.62559103e+06  2.57494814e+07  6.99922837e+06\n",
            " -4.50905457e+07 -3.49223332e+07 -4.66880082e+07 -3.17544979e+07\n",
            " -3.19137256e+07  1.68371938e+08  1.29403639e+07 -3.36400822e+07\n",
            "  2.13046028e+07  2.07676454e+07 -3.65746386e+07  2.32731426e+07\n",
            "  1.81503006e+07 -3.58956179e+07 -5.85938926e+07  1.11262029e+07\n",
            "  5.49857911e+07  2.64623888e+06 -4.43412180e+07 -5.75627472e+07\n",
            " -5.01879878e+07 -1.05495204e+07  1.49078424e+07  1.05639294e+08\n",
            "  1.29460286e+07 -2.47377000e+07  7.10221086e+06 -2.09171581e+07\n",
            " -1.12053000e+08 -5.60297819e+07  1.57333860e+08  1.41478189e+07\n",
            " -5.61137670e+06 -5.00659697e+07 -2.13699268e+07 -4.50873560e+07\n",
            "  2.49049905e+07  4.91966978e+07 -4.85055137e+07 -1.91933276e+07\n",
            " -5.85348981e+07 -3.46961285e+07  5.54884899e+08 -8.36529201e+07\n",
            "  6.43823620e+07  5.98649165e+07 -1.31650054e+08 -2.90753837e+07\n",
            "  9.34256392e+07  3.63419089e+07  9.25414990e+07 -2.92585447e+08\n",
            "  4.17508826e+08 -2.81912830e+08  6.71118353e+07 -1.44972101e+08\n",
            " -2.13937437e+08 -4.08622455e+07 -1.55738569e+07 -7.81930996e+08\n",
            " -1.55010695e+08 -5.66016286e+06  2.33527719e+07 -5.04712872e+07\n",
            " -3.18157985e+07  9.35545149e+07  3.02826621e+06  5.44618462e+07\n",
            "  1.20874832e+07 -1.85127319e+07  1.13389239e+08 -4.73837237e+07\n",
            " -1.29142424e+07 -1.13010368e+07  4.01654744e+07  1.23613843e+06\n",
            "  6.32542868e+06 -4.44697354e+07 -9.07103751e+06  2.23312745e+07\n",
            " -2.67973036e+07  2.74769304e+07  3.51135108e+06  1.48417673e+07\n",
            " -5.70797273e+07  8.26354871e+07  1.22482985e+07 -4.91302451e+07\n",
            " -1.94578517e+07 -6.77822056e+07  9.96490116e+06  7.93946369e+06\n",
            " -3.57647038e+07  1.64761022e+07  5.23579015e+07 -1.11924029e+07\n",
            "  3.51693944e+07 -4.97996948e+08  7.71874031e+07 -1.82141892e+07\n",
            " -1.33912537e+07  2.38965724e+07  1.66864671e+07 -2.14233950e+07\n",
            " -9.94543062e+06 -3.08040261e+07  2.11426215e+08 -9.85880001e+08\n",
            "  1.78330819e+08 -5.99045158e+07  3.65647935e+08 -1.30774301e+07\n",
            " -1.17838467e+08  6.05691877e+07  5.92067794e+08  9.59145167e+07\n",
            "  1.61666295e+07 -1.74238968e+07  1.86475162e+07  1.61883275e+07\n",
            " -5.21755657e+07 -4.07063978e+06 -3.00928666e+07  1.25283094e+06\n",
            "  1.07734733e+07 -4.40961786e+07 -2.43094970e+07 -2.45451459e+07\n",
            "  3.18355447e+07  1.33032067e+07  4.02647425e+06 -2.83828579e+07\n",
            "  2.65172685e+07 -5.30630204e+06  1.01350031e+07  1.80257402e+07\n",
            "  3.22787952e+07 -3.45905758e+07 -2.00383886e+07  5.13049700e+06\n",
            " -5.25486632e+07 -5.75354566e+06  3.85881396e+07  1.98229938e+07\n",
            " -2.72622743e+07  1.23417287e+06  7.37952525e+06 -3.63108399e+06\n",
            " -3.15854007e+06  8.41709713e+06 -9.51349262e+06  6.27948683e+07\n",
            "  1.56163051e+08  2.06833850e+08  9.77994922e+06 -1.29902206e+08\n",
            " -2.09261055e+08 -1.77009649e+07  6.30655202e+07  6.44990564e+07\n",
            " -4.85559235e+08  3.68667682e+08 -2.95466476e+07  3.10992463e+08\n",
            " -5.21484669e+06 -1.83811003e+08  2.43086821e+07  5.45348672e+08\n",
            "  3.53104987e+08  2.09893400e+08 -5.17042726e+08  1.07668613e+08\n",
            " -4.25808834e+07 -2.32227507e+08  2.14811973e+08 -4.45617605e+07\n",
            " -4.18469528e+07  9.68509373e+07 -3.45660456e+07 -1.04553217e+08\n",
            "  1.07318299e+08 -6.34888830e+06  2.38625081e+08  2.18151075e+08\n",
            "  1.22402704e+08 -1.47148583e+07 -8.72640900e+06  1.84236198e+08\n",
            "  1.12340169e+08  4.01867831e+08 -1.22406488e+08 -2.60823428e+07\n",
            "  1.27860786e+08 -2.86714972e+06 -4.00656035e+08  1.05967951e+08\n",
            "  1.49943087e+07  2.33135702e+07 -2.72434900e+06 -2.38941731e+06\n",
            " -5.19039324e+05 -1.61633363e+07  1.27208912e+05  7.80403705e+06\n",
            " -7.87195929e+06  1.80449518e+07 -1.30162578e+07 -2.16264709e+07\n",
            " -1.95995237e+07  2.86551822e+07  1.23500450e+07  9.31141007e+04\n",
            "  1.29352414e+07  1.75872873e+07 -1.48694220e+07 -3.62193122e+04\n",
            "  2.00620874e+07  8.06182454e+05 -7.80262614e+07  1.40213365e+07\n",
            "  4.77493609e+07 -1.31255027e+07  1.62647322e+07  2.46384888e+07\n",
            " -1.04306559e+06 -3.40705638e+07  2.32771349e+06  2.47745983e+06\n",
            "  8.67459271e+05 -9.32002480e+06  2.15578070e+07  4.64504183e+06\n",
            " -3.10831254e+06  7.95593367e+06  5.18271458e+07 -5.52602634e+07\n",
            "  2.27004562e+07  4.85751536e+07  2.59089932e+07 -6.67556986e+06\n",
            "  6.04947910e+07 -5.12195182e+07 -1.42363478e+07  2.59877235e+07\n",
            "  5.06341044e+07 -6.54591059e+07 -1.05686441e+08  6.79402883e+07\n",
            "  5.68430670e+07  4.62439485e+07  7.48343764e+07 -3.60294740e+07\n",
            " -6.60636496e+07 -1.49409406e+08 -1.58973683e+07 -2.85893104e+07\n",
            "  2.22567161e+06 -2.26777274e+07 -2.84507649e+07 -4.77280817e+07\n",
            " -8.73610390e+06  2.10456539e+07 -6.29222770e+06 -8.04903602e+06\n",
            " -1.08470052e+07 -1.85386707e+07 -1.39653684e+07 -4.77510253e+07\n",
            "  8.91353507e+06  2.21194801e+07  1.88687931e+07  2.37909600e+07\n",
            "  6.02587796e+06  5.11978292e+06 -3.08052722e+06 -6.01665816e+06\n",
            "  1.48794133e+07 -1.46576331e+07 -4.58138321e+06  2.85601951e+07\n",
            "  4.52194386e+07  3.54112183e+07  1.23589718e+07 -3.37501540e+07\n",
            " -1.75970010e+07 -2.86993008e+07  4.05005074e+07  2.44255769e+07\n",
            " -7.12441008e+06 -2.78674120e+07 -7.71947796e+06 -4.31299605e+07\n",
            " -9.69313950e+06  2.01357311e+07  9.20004528e+07  6.15085774e+07\n",
            " -1.72775947e+07 -1.09557082e+07 -1.64587591e+07  4.24796510e+07\n",
            "  9.56647646e+05  1.82786332e+07 -6.88928251e+06  2.84283882e+07\n",
            " -8.79912913e+06 -3.79822865e+07 -8.08371798e+05  1.20639989e+07\n",
            " -1.33305411e+07  2.34308311e+07  3.23443760e+07  4.72932585e+06\n",
            " -5.20276845e+06  1.11181882e+07  3.83330339e+07  2.04349654e+07]\n"
          ]
        }
      ]
    },
    {
      "cell_type": "code",
      "metadata": {
        "colab": {
          "base_uri": "https://localhost:8080/"
        },
        "id": "RkL-tTTw1ion",
        "outputId": "6bfcf193-1a22-4100-93e7-8118e572172a"
      },
      "source": [
        "# mean squared error\n",
        "print(\"Mean squared error: %.2f\" % mean_squared_error(y_test, pol_pred))"
      ],
      "execution_count": 109,
      "outputs": [
        {
          "output_type": "stream",
          "name": "stdout",
          "text": [
            "Mean squared error: 499890819238.38\n"
          ]
        }
      ]
    },
    {
      "cell_type": "code",
      "metadata": {
        "colab": {
          "base_uri": "https://localhost:8080/"
        },
        "id": "0IETfDod3-n_",
        "outputId": "1b732356-48a1-4802-fed6-461408772a41"
      },
      "source": [
        "# The coefficient of determination\n",
        "print(\"Coefficient of determination: %.2f\" % r2_score(y_test, pol_pred))"
      ],
      "execution_count": 110,
      "outputs": [
        {
          "output_type": "stream",
          "name": "stdout",
          "text": [
            "Coefficient of determination: 0.99\n"
          ]
        }
      ]
    },
    {
      "cell_type": "code",
      "metadata": {
        "colab": {
          "base_uri": "https://localhost:8080/",
          "height": 307
        },
        "id": "InppHswJ4KGc",
        "outputId": "da4defca-13d7-4913-fc24-6ed6cef74765"
      },
      "source": [
        "sns.regplot(x=y_test, y=pol_pred, ci=None, color=\"b\")"
      ],
      "execution_count": 111,
      "outputs": [
        {
          "output_type": "execute_result",
          "data": {
            "text/plain": [
              "<matplotlib.axes._subplots.AxesSubplot at 0x7f5e77574810>"
            ]
          },
          "metadata": {},
          "execution_count": 111
        },
        {
          "output_type": "display_data",
          "data": {
            "image/png": "[encoded data removed]",
            "text/plain": [
              "<Figure size 432x288 with 1 Axes>"
            ]
          },
          "metadata": {
            "needs_background": "light"
          }
        }
      ]
    },
    {
      "cell_type": "code",
      "metadata": {
        "colab": {
          "base_uri": "https://localhost:8080/"
        },
        "id": "CAUF-CS54N90",
        "outputId": "7aad04a4-449f-44ad-90ca-2e2e3f8cbb13"
      },
      "source": [
        "# Decision Tree\n",
        "from sklearn.tree import DecisionTreeRegressor\n",
        "dtr = DecisionTreeRegressor(random_state = 0, max_features = 11)\n",
        "dtr_model = Pipeline(steps = [(\"regressor\", dtr)])\n",
        "dtr_model.fit(X_train, y_train)\n",
        "dtr_pred = dtr_model.predict(X_test)\n",
        "dtr_pred"
      ],
      "execution_count": 112,
      "outputs": [
        {
          "output_type": "execute_result",
          "data": {
            "text/plain": [
              "array([ 3200000.,  2800000.,  2200000., ...,  4700000.,  2800000.,\n",
              "       11000000.])"
            ]
          },
          "metadata": {},
          "execution_count": 112
        }
      ]
    },
    {
      "cell_type": "code",
      "metadata": {
        "colab": {
          "base_uri": "https://localhost:8080/"
        },
        "id": "Y-N4ie3y6f0A",
        "outputId": "79f067f2-2996-4dc1-e258-19b2b3c1d7b1"
      },
      "source": [
        "# mean squared error\n",
        "print(\"Mean squared error: %.2f\" % mean_squared_error(y_test, dtr_pred))"
      ],
      "execution_count": 113,
      "outputs": [
        {
          "output_type": "stream",
          "name": "stdout",
          "text": [
            "Mean squared error: 2392466374893.25\n"
          ]
        }
      ]
    },
    {
      "cell_type": "code",
      "metadata": {
        "colab": {
          "base_uri": "https://localhost:8080/"
        },
        "id": "fKRAl9Dj61V8",
        "outputId": "1c4b0657-e3d9-4117-8fe7-6361f4982bcd"
      },
      "source": [
        "# The coefficient of determination\n",
        "print(\"Coefficient of determination: %.2f\" % r2_score(y_test, dtr_pred))"
      ],
      "execution_count": 114,
      "outputs": [
        {
          "output_type": "stream",
          "name": "stdout",
          "text": [
            "Coefficient of determination: 0.96\n"
          ]
        }
      ]
    },
    {
      "cell_type": "code",
      "metadata": {
        "colab": {
          "base_uri": "https://localhost:8080/",
          "height": 307
        },
        "id": "NlSkSnZh7c3b",
        "outputId": "ba0d8927-b427-40ab-9e12-3799ea441967"
      },
      "source": [
        "sns.regplot(x=y_test, y=dtr_pred, ci=None, color=\"b\")"
      ],
      "execution_count": 115,
      "outputs": [
        {
          "output_type": "execute_result",
          "data": {
            "text/plain": [
              "<matplotlib.axes._subplots.AxesSubplot at 0x7f5e77555250>"
            ]
          },
          "metadata": {},
          "execution_count": 115
        },
        {
          "output_type": "display_data",
          "data": {
            "image/png": "[encoded data removed]",
            "text/plain": [
              "<Figure size 432x288 with 1 Axes>"
            ]
          },
          "metadata": {
            "needs_background": "light"
          }
        }
      ]
    },
    {
      "cell_type": "code",
      "metadata": {
        "colab": {
          "base_uri": "https://localhost:8080/"
        },
        "id": "yBWjxfgT7gLM",
        "outputId": "f65355e5-7e2c-4c62-b4cf-66a49b57b6f8"
      },
      "source": [
        "# random forest \n",
        "from sklearn.ensemble import RandomForestRegressor\n",
        "rfreg = RandomForestRegressor(n_estimators = 100, max_depth = 15, random_state = 4)\n",
        "rf_model = Pipeline(steps = [(\"regressor\", rfreg)])\n",
        "rf_model.fit(X_train, y_train)\n",
        "rf_pred = rf_model.predict(X_test)\n",
        "rf_pred"
      ],
      "execution_count": 116,
      "outputs": [
        {
          "output_type": "execute_result",
          "data": {
            "text/plain": [
              "array([ 3215666.66666667,  2802333.7003767 ,  2109588.72840123, ...,\n",
              "        4696475.42476563,  3020621.06620351, 10985000.        ])"
            ]
          },
          "metadata": {},
          "execution_count": 116
        }
      ]
    },
    {
      "cell_type": "code",
      "metadata": {
        "colab": {
          "base_uri": "https://localhost:8080/"
        },
        "id": "FjX38--78Qeb",
        "outputId": "ee5212af-4b7d-45fa-c014-264f51e06d7b"
      },
      "source": [
        "# mean squared error\n",
        "print(\"Mean squared error: %.2f\" % mean_squared_error(y_test, rf_pred))"
      ],
      "execution_count": 117,
      "outputs": [
        {
          "output_type": "stream",
          "name": "stdout",
          "text": [
            "Mean squared error: 775354804809.87\n"
          ]
        }
      ]
    },
    {
      "cell_type": "code",
      "metadata": {
        "colab": {
          "base_uri": "https://localhost:8080/"
        },
        "id": "7jSR0MX58VtQ",
        "outputId": "a5b72973-1ffa-4def-caeb-599470455086"
      },
      "source": [
        "# The coefficient of determination\n",
        "print(\"Coefficient of determination: %.2f\" % r2_score(y_test, rf_pred))"
      ],
      "execution_count": 118,
      "outputs": [
        {
          "output_type": "stream",
          "name": "stdout",
          "text": [
            "Coefficient of determination: 0.99\n"
          ]
        }
      ]
    },
    {
      "cell_type": "code",
      "metadata": {
        "colab": {
          "base_uri": "https://localhost:8080/",
          "height": 307
        },
        "id": "scZFP8ta8aPQ",
        "outputId": "66ee05b5-d02e-4058-8c22-c4bde569e7d3"
      },
      "source": [
        "sns.regplot(x=y_test, y=dtr_pred, ci=None, color=\"b\")"
      ],
      "execution_count": 119,
      "outputs": [
        {
          "output_type": "execute_result",
          "data": {
            "text/plain": [
              "<matplotlib.axes._subplots.AxesSubplot at 0x7f5e7cb5fb50>"
            ]
          },
          "metadata": {},
          "execution_count": 119
        },
        {
          "output_type": "display_data",
          "data": {
            "image/png": "[encoded data removed]",
            "text/plain": [
              "<Figure size 432x288 with 1 Axes>"
            ]
          },
          "metadata": {
            "needs_background": "light"
          }
        }
      ]
    },
    {
      "cell_type": "code",
      "metadata": {
        "id": "x0qsfq6B8cyj",
        "colab": {
          "base_uri": "https://localhost:8080/"
        },
        "outputId": "724c76ae-9ed9-4ce4-8489-ac5f4f3737cf"
      },
      "source": [
        "# Lasso regression\n",
        "from sklearn import linear_model\n",
        "las = linear_model.Lasso(alpha = 0.1)\n",
        "las.fit(X_train, y_train)\n",
        "las_pred = las.predict(X_test)\n",
        "las_pred"
      ],
      "execution_count": 120,
      "outputs": [
        {
          "output_type": "execute_result",
          "data": {
            "text/plain": [
              "array([ 3537807.68151789,  1231717.79387194,   211314.36739449, ...,\n",
              "        6058373.14994236,  3048430.50152932, 12833945.26012715])"
            ]
          },
          "metadata": {},
          "execution_count": 120
        }
      ]
    },
    {
      "cell_type": "code",
      "metadata": {
        "colab": {
          "base_uri": "https://localhost:8080/"
        },
        "id": "vhD2FWUYDdsx",
        "outputId": "7343a35e-a1ff-4b02-f978-8ee608e36404"
      },
      "source": [
        "# coefficients\n",
        "print(\"Coefficients: \\n\", las.coef_)"
      ],
      "execution_count": 121,
      "outputs": [
        {
          "output_type": "stream",
          "name": "stdout",
          "text": [
            "Coefficients: \n",
            " [32517579.30984416  1183240.49216327 58403108.64847254 -8310899.11328369\n",
            " -3266050.64235152 -1673596.73821377 -1127249.73653633  1199903.37332771\n",
            "  2298925.14455407   324192.96345723 -2902407.30804892]\n"
          ]
        }
      ]
    },
    {
      "cell_type": "code",
      "metadata": {
        "colab": {
          "base_uri": "https://localhost:8080/"
        },
        "id": "YggA7PLQDiiy",
        "outputId": "b82b2de9-edcf-4a19-bb16-e35bb2235f34"
      },
      "source": [
        "# mean squared error\n",
        "print(\"Mean squared error: %.2f\" % mean_squared_error(y_test, las_pred))"
      ],
      "execution_count": 122,
      "outputs": [
        {
          "output_type": "stream",
          "name": "stdout",
          "text": [
            "Mean squared error: 9920209484828.94\n"
          ]
        }
      ]
    },
    {
      "cell_type": "code",
      "metadata": {
        "colab": {
          "base_uri": "https://localhost:8080/"
        },
        "id": "4ud5HxUaDnwK",
        "outputId": "afb6bc81-86b0-4dce-8462-b7f840829b14"
      },
      "source": [
        "# The coefficient of determination\n",
        "print(\"Coefficient of determination: %.2f\" % r2_score(y_test, las_pred))"
      ],
      "execution_count": 123,
      "outputs": [
        {
          "output_type": "stream",
          "name": "stdout",
          "text": [
            "Coefficient of determination: 0.84\n"
          ]
        }
      ]
    },
    {
      "cell_type": "code",
      "metadata": {
        "colab": {
          "base_uri": "https://localhost:8080/",
          "height": 307
        },
        "id": "Zofo1-RWDreB",
        "outputId": "501e1540-b712-4c81-9931-38c77ecefc1f"
      },
      "source": [
        "sns.regplot(x=y_test, y=las_pred, ci=None, color=\"b\")"
      ],
      "execution_count": 124,
      "outputs": [
        {
          "output_type": "execute_result",
          "data": {
            "text/plain": [
              "<matplotlib.axes._subplots.AxesSubplot at 0x7f5e77c16d50>"
            ]
          },
          "metadata": {},
          "execution_count": 124
        },
        {
          "output_type": "display_data",
          "data": {
            "image/png": "[encoded data removed]",
            "text/plain": [
              "<Figure size 432x288 with 1 Axes>"
            ]
          },
          "metadata": {
            "needs_background": "light"
          }
        }
      ]
    },
    {
      "cell_type": "code",
      "metadata": {
        "colab": {
          "base_uri": "https://localhost:8080/"
        },
        "id": "fE5q9S3EDuXN",
        "outputId": "792649d9-e797-4745-9d7a-4a40112ea940"
      },
      "source": [
        "# Elastic Net\n",
        "from sklearn.linear_model import ElasticNet\n",
        "el = ElasticNet(random_state = 0)\n",
        "el.fit(X_train, y_train)\n",
        "el_pred = el.predict(X_test)\n",
        "el_pred"
      ],
      "execution_count": 125,
      "outputs": [
        {
          "output_type": "execute_result",
          "data": {
            "text/plain": [
              "array([6641466.12256391, 6412144.58554597, 6468000.26569343, ...,\n",
              "       6697630.72528927, 6838625.04084433, 8021391.68977278])"
            ]
          },
          "metadata": {},
          "execution_count": 125
        }
      ]
    },
    {
      "cell_type": "code",
      "metadata": {
        "colab": {
          "base_uri": "https://localhost:8080/"
        },
        "id": "Y5XfbaGqF1kx",
        "outputId": "e6af1e3a-3057-4eea-8737-c054266099c7"
      },
      "source": [
        "# coefficients\n",
        "print(\"Coefficients: \\n\", el.coef_)"
      ],
      "execution_count": 126,
      "outputs": [
        {
          "output_type": "stream",
          "name": "stdout",
          "text": [
            "Coefficients: \n",
            " [2018073.20654448 2100378.55474217  760390.02241552 -310667.89874395\n",
            "  554219.72313488   91627.62693858  682694.03163438  526978.98160709\n",
            "  408272.18281866  568899.16487875   75869.48121176]\n"
          ]
        }
      ]
    },
    {
      "cell_type": "code",
      "metadata": {
        "colab": {
          "base_uri": "https://localhost:8080/"
        },
        "id": "AsbYoz6IF5O8",
        "outputId": "99ea8d80-c7d4-4c3b-a13f-3d867badc139"
      },
      "source": [
        "# mean squared error\n",
        "print(\"Mean squared error: %.2f\" % mean_squared_error(y_test, el_pred))"
      ],
      "execution_count": 127,
      "outputs": [
        {
          "output_type": "stream",
          "name": "stdout",
          "text": [
            "Mean squared error: 50524091699050.82\n"
          ]
        }
      ]
    },
    {
      "cell_type": "code",
      "metadata": {
        "colab": {
          "base_uri": "https://localhost:8080/"
        },
        "id": "6ZZ2S3yhGgiy",
        "outputId": "021cf9e6-30c9-41a1-9727-2238648f88f8"
      },
      "source": [
        "# The coefficient of determination\n",
        "print(\"Coefficient of determination: %.2f\" % r2_score(y_test, el_pred))"
      ],
      "execution_count": 128,
      "outputs": [
        {
          "output_type": "stream",
          "name": "stdout",
          "text": [
            "Coefficient of determination: 0.17\n"
          ]
        }
      ]
    },
    {
      "cell_type": "code",
      "metadata": {
        "colab": {
          "base_uri": "https://localhost:8080/",
          "height": 307
        },
        "id": "oEjATSvYGkM9",
        "outputId": "656ead42-e314-4695-e967-43ba161eed06"
      },
      "source": [
        "sns.regplot(x=y_test, y=el_pred, ci=None, color=\"b\")"
      ],
      "execution_count": 129,
      "outputs": [
        {
          "output_type": "execute_result",
          "data": {
            "text/plain": [
              "<matplotlib.axes._subplots.AxesSubplot at 0x7f5e77428910>"
            ]
          },
          "metadata": {},
          "execution_count": 129
        },
        {
          "output_type": "display_data",
          "data": {
            "image/png": "[encoded data removed]",
            "text/plain": [
              "<Figure size 432x288 with 1 Axes>"
            ]
          },
          "metadata": {
            "needs_background": "light"
          }
        }
      ]
    },
    {
      "cell_type": "code",
      "metadata": {
        "colab": {
          "base_uri": "https://localhost:8080/"
        },
        "id": "tS6iqY_xGnJd",
        "outputId": "77a50484-264e-48b2-d61c-e32c0d96c667"
      },
      "source": [
        "# Ridge regression\n",
        "ridge = linear_model.Ridge(alpha = 0.5)\n",
        "ridge.fit(X_train, y_train)\n",
        "ridge_pred = ridge.predict(X_test)\n",
        "ridge_pred"
      ],
      "execution_count": 130,
      "outputs": [
        {
          "output_type": "execute_result",
          "data": {
            "text/plain": [
              "array([ 3526290.95405669,  1230507.93451347,   215763.22436194, ...,\n",
              "        5995716.77254311,  3048183.14349063, 12947125.24245176])"
            ]
          },
          "metadata": {},
          "execution_count": 130
        }
      ]
    },
    {
      "cell_type": "code",
      "metadata": {
        "colab": {
          "base_uri": "https://localhost:8080/"
        },
        "id": "WZdrhPsEHDGv",
        "outputId": "4177c521-d14b-4254-82cd-eba8534bcfd4"
      },
      "source": [
        "# coefficients\n",
        "print(\"Coefficients: \\n\", ridge.coef_)"
      ],
      "execution_count": 131,
      "outputs": [
        {
          "output_type": "stream",
          "name": "stdout",
          "text": [
            "Coefficients: \n",
            " [32587887.79691271  1710089.73562625 55373640.71829033 -7938268.94436345\n",
            " -2941733.45107919 -1658758.19881158  -977227.45746589  1135504.56263785\n",
            "  2298789.90043629   307736.55963427 -2679618.02905651]\n"
          ]
        }
      ]
    },
    {
      "cell_type": "code",
      "metadata": {
        "colab": {
          "base_uri": "https://localhost:8080/"
        },
        "id": "AAHZteAoHG9C",
        "outputId": "17b8af73-7799-4639-f3a7-b61b48793fbf"
      },
      "source": [
        "# mean squared error\n",
        "print(\"Mean squared error: %.2f\" % mean_squared_error(y_test, ridge_pred))"
      ],
      "execution_count": 132,
      "outputs": [
        {
          "output_type": "stream",
          "name": "stdout",
          "text": [
            "Mean squared error: 9876187443195.63\n"
          ]
        }
      ]
    },
    {
      "cell_type": "code",
      "metadata": {
        "colab": {
          "base_uri": "https://localhost:8080/"
        },
        "id": "lwb5Xn83HKgh",
        "outputId": "bc73c866-7385-4ef2-cf85-332ef47b4c7a"
      },
      "source": [
        "# The coefficient of determination\n",
        "print(\"Coefficient of determination: %.2f\" % r2_score(y_test, ridge_pred))"
      ],
      "execution_count": 133,
      "outputs": [
        {
          "output_type": "stream",
          "name": "stdout",
          "text": [
            "Coefficient of determination: 0.84\n"
          ]
        }
      ]
    },
    {
      "cell_type": "code",
      "metadata": {
        "colab": {
          "base_uri": "https://localhost:8080/",
          "height": 307
        },
        "id": "L7jKHdOWHQCU",
        "outputId": "1630b318-bf12-43bb-dc88-6b5a2dc93a28"
      },
      "source": [
        "sns.regplot(x=y_test, y=ridge_pred, ci=None, color=\"b\")"
      ],
      "execution_count": 134,
      "outputs": [
        {
          "output_type": "execute_result",
          "data": {
            "text/plain": [
              "<matplotlib.axes._subplots.AxesSubplot at 0x7f5e773a0650>"
            ]
          },
          "metadata": {},
          "execution_count": 134
        },
        {
          "output_type": "display_data",
          "data": {
            "image/png": "[encoded data removed]",
            "text/plain": [
              "<Figure size 432x288 with 1 Axes>"
            ]
          },
          "metadata": {
            "needs_background": "light"
          }
        }
      ]
    },
    {
      "cell_type": "code",
      "metadata": {
        "colab": {
          "base_uri": "https://localhost:8080/"
        },
        "id": "qWuNlbz7HTwW",
        "outputId": "85c9ec23-227a-4d90-9de3-d32f44f078d1"
      },
      "source": [
        "# Support vector regression with linear kernel\n",
        "from sklearn import svm\n",
        "svr = svm.SVR(kernel = \"linear\")\n",
        "svr.fit(X_train, y_train)\n",
        "svr_pred = svr.predict(X_test)\n",
        "svr_pred"
      ],
      "execution_count": 135,
      "outputs": [
        {
          "output_type": "execute_result",
          "data": {
            "text/plain": [
              "array([4199853.14983034, 4199782.65383875, 4199822.28901263, ...,\n",
              "       4199852.37935429, 4199919.89732778, 4200244.7241548 ])"
            ]
          },
          "metadata": {},
          "execution_count": 135
        }
      ]
    },
    {
      "cell_type": "code",
      "metadata": {
        "colab": {
          "base_uri": "https://localhost:8080/"
        },
        "id": "k1lKbiS2H0b6",
        "outputId": "4bbb5a74-e47a-4945-c004-9414cd7d9220"
      },
      "source": [
        "# mean squared error\n",
        "print(\"Mean squared error: %.2f\" % mean_squared_error(y_test, svr_pred))"
      ],
      "execution_count": 136,
      "outputs": [
        {
          "output_type": "stream",
          "name": "stdout",
          "text": [
            "Mean squared error: 66327830538535.54\n"
          ]
        }
      ]
    },
    {
      "cell_type": "code",
      "metadata": {
        "colab": {
          "base_uri": "https://localhost:8080/"
        },
        "id": "t1N_ouBlIVJc",
        "outputId": "b9952cec-bf77-4aa9-99b2-552f3083074c"
      },
      "source": [
        "# coefficients\n",
        "print(\"Coefficients: \\n\", svr.coef_)"
      ],
      "execution_count": 137,
      "outputs": [
        {
          "output_type": "stream",
          "name": "stdout",
          "text": [
            "Coefficients: \n",
            " [[ 493.12        589.16        107.86356312 -174.36        210.36516854\n",
            "    91.82040816  217.80716253  192.6194332   136.72325581  196.40400668\n",
            "   -54.18663594]]\n"
          ]
        }
      ]
    },
    {
      "cell_type": "code",
      "metadata": {
        "colab": {
          "base_uri": "https://localhost:8080/"
        },
        "id": "t-PGjaHnH6Ko",
        "outputId": "fbd39554-0ace-4486-dde3-f55487e34c0e"
      },
      "source": [
        "# The coefficient of determination\n",
        "print(\"Coefficient of determination: %.2f\" % r2_score(y_test, svr_pred))"
      ],
      "execution_count": 138,
      "outputs": [
        {
          "output_type": "stream",
          "name": "stdout",
          "text": [
            "Coefficient of determination: -0.10\n"
          ]
        }
      ]
    },
    {
      "cell_type": "code",
      "metadata": {
        "colab": {
          "base_uri": "https://localhost:8080/",
          "height": 307
        },
        "id": "PIRuJACKH94h",
        "outputId": "ba8090ce-68ae-4709-8e9e-5e6e7e9a18e7"
      },
      "source": [
        "sns.regplot(x=y_test, y=svr_pred, ci=None, color=\"b\")"
      ],
      "execution_count": 139,
      "outputs": [
        {
          "output_type": "execute_result",
          "data": {
            "text/plain": [
              "<matplotlib.axes._subplots.AxesSubplot at 0x7f5e7730fbd0>"
            ]
          },
          "metadata": {},
          "execution_count": 139
        },
        {
          "output_type": "display_data",
          "data": {
            "image/png": "[encoded data removed]",
            "text/plain": [
              "<Figure size 432x288 with 1 Axes>"
            ]
          },
          "metadata": {
            "needs_background": "light"
          }
        }
      ]
    },
    {
      "cell_type": "code",
      "metadata": {
        "colab": {
          "base_uri": "https://localhost:8080/"
        },
        "id": "5GDwvn0wICeV",
        "outputId": "a2b73d1e-504c-4a20-bab3-722532826cd2"
      },
      "source": [
        "# SVR with rbf kernel\n",
        "svr_rbf = svm.SVR(kernel = \"rbf\")\n",
        "svr_rbf.fit(X_train, y_train)\n",
        "svr_rbf_pred = svr_rbf.predict(X_test)\n",
        "svr_rbf_pred"
      ],
      "execution_count": 140,
      "outputs": [
        {
          "output_type": "execute_result",
          "data": {
            "text/plain": [
              "array([4199843.64618812, 4199714.01291002, 4199755.34681   , ...,\n",
              "       4199807.10405678, 4199880.43005643, 4200259.1133771 ])"
            ]
          },
          "metadata": {},
          "execution_count": 140
        }
      ]
    },
    {
      "cell_type": "code",
      "metadata": {
        "colab": {
          "base_uri": "https://localhost:8080/"
        },
        "id": "BJ15YmZFIod8",
        "outputId": "ac970f42-1c6f-4784-c88f-a5a6a5a19d40"
      },
      "source": [
        "# mean squared error\n",
        "print(\"Mean squared error: %.2f\" % mean_squared_error(y_test, svr_rbf_pred))"
      ],
      "execution_count": 141,
      "outputs": [
        {
          "output_type": "stream",
          "name": "stdout",
          "text": [
            "Mean squared error: 66328214774208.80\n"
          ]
        }
      ]
    },
    {
      "cell_type": "code",
      "metadata": {
        "colab": {
          "base_uri": "https://localhost:8080/"
        },
        "id": "R6CyUhg6Isz-",
        "outputId": "f7975d4d-b008-451d-a161-4a099211e723"
      },
      "source": [
        "# The coefficient of determination\n",
        "print(\"Coefficient of determination: %.2f\" % r2_score(y_test, svr_rbf_pred))"
      ],
      "execution_count": 142,
      "outputs": [
        {
          "output_type": "stream",
          "name": "stdout",
          "text": [
            "Coefficient of determination: -0.10\n"
          ]
        }
      ]
    },
    {
      "cell_type": "code",
      "metadata": {
        "colab": {
          "base_uri": "https://localhost:8080/",
          "height": 307
        },
        "id": "-P-SZUedIwaz",
        "outputId": "e3651c3a-ed24-4ede-cd9e-e842d4cb24be"
      },
      "source": [
        "sns.regplot(x=y_test, y=svr_rbf_pred, ci=None, color=\"b\")"
      ],
      "execution_count": 143,
      "outputs": [
        {
          "output_type": "execute_result",
          "data": {
            "text/plain": [
              "<matplotlib.axes._subplots.AxesSubplot at 0x7f5e7727d410>"
            ]
          },
          "metadata": {},
          "execution_count": 143
        },
        {
          "output_type": "display_data",
          "data": {
            "image/png": "[encoded data removed]",
            "text/plain": [
              "<Figure size 432x288 with 1 Axes>"
            ]
          },
          "metadata": {
            "needs_background": "light"
          }
        }
      ]
    },
    {
      "cell_type": "code",
      "metadata": {
        "colab": {
          "base_uri": "https://localhost:8080/"
        },
        "id": "WY0M7aGbIzkh",
        "outputId": "2207f12d-3877-4410-cd10-0e5fba70a44b"
      },
      "source": [
        "# Gradient Boosting Regressor\n",
        "from sklearn.ensemble import GradientBoostingRegressor\n",
        "gbr = GradientBoostingRegressor(n_estimators = 100, learning_rate = 0.1, random_state = 0)\n",
        "gbr.fit(X_train, y_train)\n",
        "gbr_pred = gbr.predict(X_test)\n",
        "gbr_pred"
      ],
      "execution_count": 144,
      "outputs": [
        {
          "output_type": "execute_result",
          "data": {
            "text/plain": [
              "array([ 3497810.31670762,  2552851.64809339,  1925989.12942168, ...,\n",
              "        4133470.72188244,  2929703.36570044, 11360256.11108672])"
            ]
          },
          "metadata": {},
          "execution_count": 144
        }
      ]
    },
    {
      "cell_type": "code",
      "metadata": {
        "colab": {
          "base_uri": "https://localhost:8080/"
        },
        "id": "54YLpI1vJq4T",
        "outputId": "cdd56d40-eaa1-4b52-8777-55a31b21b647"
      },
      "source": [
        "# mean squared error\n",
        "print(\"Mean squared error: %.2f\" % mean_squared_error(y_test, gbr_pred))"
      ],
      "execution_count": 145,
      "outputs": [
        {
          "output_type": "stream",
          "name": "stdout",
          "text": [
            "Mean squared error: 692303083530.20\n"
          ]
        }
      ]
    },
    {
      "cell_type": "code",
      "metadata": {
        "colab": {
          "base_uri": "https://localhost:8080/"
        },
        "id": "7x4Ux1zpJxw1",
        "outputId": "5832cf79-b2a7-4ba0-aab4-c2ef6600d717"
      },
      "source": [
        "# The coefficient of determination\n",
        "print(\"Coefficient of determination: %.2f\" % r2_score(y_test, gbr_pred))"
      ],
      "execution_count": 146,
      "outputs": [
        {
          "output_type": "stream",
          "name": "stdout",
          "text": [
            "Coefficient of determination: 0.99\n"
          ]
        }
      ]
    },
    {
      "cell_type": "code",
      "metadata": {
        "colab": {
          "base_uri": "https://localhost:8080/",
          "height": 307
        },
        "id": "9W_mQRm_J4VD",
        "outputId": "f2217429-f105-49c2-b9bd-d6f41c29438a"
      },
      "source": [
        "sns.regplot(x=y_test, y=gbr_pred, ci=None, color=\"b\")"
      ],
      "execution_count": 147,
      "outputs": [
        {
          "output_type": "execute_result",
          "data": {
            "text/plain": [
              "<matplotlib.axes._subplots.AxesSubplot at 0x7f5e771f8750>"
            ]
          },
          "metadata": {},
          "execution_count": 147
        },
        {
          "output_type": "display_data",
          "data": {
            "image/png": "[encoded data removed]",
            "text/plain": [
              "<Figure size 432x288 with 1 Axes>"
            ]
          },
          "metadata": {
            "needs_background": "light"
          }
        }
      ]
    },
    {
      "cell_type": "code",
      "metadata": {
        "colab": {
          "base_uri": "https://localhost:8080/"
        },
        "id": "2XZlmUJdJ8Fc",
        "outputId": "423e9c65-fc98-47b5-efce-741f0901a776"
      },
      "source": [
        "# Voting regressor that combines linear, random forest, and gradent boosting regressors\n",
        "from sklearn.ensemble import VotingRegressor\n",
        "lin = LinearRegression()\n",
        "rf = RandomForestRegressor(random_state = 1)\n",
        "gb = GradientBoostingRegressor(random_state = 1)\n",
        "vot = VotingRegressor(estimators = [(\"gb\", gb), (\"rf\", rf), (\"lin\", lin)])\n",
        "vot.fit(X_train, y_train)\n",
        "vot_pred = vot.predict(X_test)\n",
        "vot_pred"
      ],
      "execution_count": 148,
      "outputs": [
        {
          "output_type": "execute_result",
          "data": {
            "text/plain": [
              "array([ 3409539.0183271 ,  2191525.26171679,  1415434.65419805, ...,\n",
              "        4962617.07014113,  2990378.39281556, 11766401.88202187])"
            ]
          },
          "metadata": {},
          "execution_count": 148
        }
      ]
    },
    {
      "cell_type": "code",
      "metadata": {
        "colab": {
          "base_uri": "https://localhost:8080/"
        },
        "id": "JM-EGi6OKwF6",
        "outputId": "38d691a3-1dc1-4d59-8916-948eedb2b847"
      },
      "source": [
        "# mean squared error\n",
        "print(\"Mean squared error: %.2f\" % mean_squared_error(y_test, vot_pred))"
      ],
      "execution_count": 149,
      "outputs": [
        {
          "output_type": "stream",
          "name": "stdout",
          "text": [
            "Mean squared error: 1884953780474.62\n"
          ]
        }
      ]
    },
    {
      "cell_type": "code",
      "metadata": {
        "colab": {
          "base_uri": "https://localhost:8080/"
        },
        "id": "yVzeVV6sK0me",
        "outputId": "f3df7c1b-954a-43b8-91e2-eab0bc077a7c"
      },
      "source": [
        "# The coefficient of determination\n",
        "print(\"Coefficient of determination: %.2f\" % r2_score(y_test, vot_pred))"
      ],
      "execution_count": 150,
      "outputs": [
        {
          "output_type": "stream",
          "name": "stdout",
          "text": [
            "Coefficient of determination: 0.97\n"
          ]
        }
      ]
    },
    {
      "cell_type": "code",
      "metadata": {
        "colab": {
          "base_uri": "https://localhost:8080/",
          "height": 307
        },
        "id": "q4309ConK3q_",
        "outputId": "54aafecd-a435-4cf5-875f-995fa1fda868"
      },
      "source": [
        "sns.regplot(x=y_test, y=vot_pred, ci=None, color=\"b\")"
      ],
      "execution_count": 151,
      "outputs": [
        {
          "output_type": "execute_result",
          "data": {
            "text/plain": [
              "<matplotlib.axes._subplots.AxesSubplot at 0x7f5e7783a090>"
            ]
          },
          "metadata": {},
          "execution_count": 151
        },
        {
          "output_type": "display_data",
          "data": {
            "image/png": "[encoded data removed]",
            "text/plain": [
              "<Figure size 432x288 with 1 Axes>"
            ]
          },
          "metadata": {
            "needs_background": "light"
          }
        }
      ]
    },
    {
      "cell_type": "code",
      "metadata": {
        "colab": {
          "base_uri": "https://localhost:8080/",
          "height": 395
        },
        "id": "g0yC6fcKezLb",
        "outputId": "6453168d-5624-4e5c-dce2-8bb8baa2bb5a"
      },
      "source": [
        "# Comparing the algorithms on the basis of mean squared error\n",
        "mean_square_error = {\"Linear Regression\":mean_squared_error(y_test, lin_pred), \"Polynomial Regression\": mean_squared_error(y_test, pol_pred),\n",
        "                          \"Decision Tree\": mean_squared_error(y_test, dtr_pred), \"Random Forest\": mean_squared_error(y_test, rf_pred),\n",
        "                          \"Lasso Regression\": mean_squared_error(y_test, las_pred), \"ElasticNet\": mean_squared_error(y_test, el_pred),\n",
        "                          \"Ridge Regression\": mean_squared_error(y_test, ridge_pred), \"SVR linear\": mean_squared_error(y_test, svr_pred),\n",
        "                          \"SVR rbf\": mean_squared_error(y_test, svr_rbf_pred), \"Gradient Boosting\": mean_squared_error(y_test, gbr_pred),\n",
        "                          \"Voting\": mean_squared_error(y_test, vot_pred)}\n",
        "\n",
        "mean_square_compare = pd.DataFrame(mean_square_error, index = [\"Mean Squared Error\"])\n",
        "\n",
        "mean_square_compare.T.plot.bar()"
      ],
      "execution_count": 155,
      "outputs": [
        {
          "output_type": "execute_result",
          "data": {
            "text/plain": [
              "<matplotlib.axes._subplots.AxesSubplot at 0x7f5e77107bd0>"
            ]
          },
          "metadata": {},
          "execution_count": 155
        },
        {
          "output_type": "display_data",
          "data": {
            "image/png": "[encoded data removed]",
            "text/plain": [
              "<Figure size 432x288 with 1 Axes>"
            ]
          },
          "metadata": {
            "needs_background": "light"
          }
        }
      ]
    },
    {
      "cell_type": "markdown",
      "metadata": {
        "id": "4tObOmOZiZnS"
      },
      "source": [
        "###We find that Polynomial regression, random forest and gradient boosting have the least mean squared error values. To get the best algorithm, R2 score comparison is also conducted."
      ]
    },
    {
      "cell_type": "code",
      "metadata": {
        "colab": {
          "base_uri": "https://localhost:8080/",
          "height": 384
        },
        "id": "LruW21uyhX2A",
        "outputId": "27f15ff8-ec0c-40a3-aedf-496492140989"
      },
      "source": [
        "# Comparing the coefficient of determination i.e. r2 score\n",
        "\n",
        "r2 = {\"Linear Regression\":r2_score(y_test, lin_pred), \"Polynomial Regression\": r2_score(y_test, pol_pred),\n",
        "                          \"Decision Tree\": r2_score(y_test, dtr_pred), \"Random Forest\": r2_score(y_test, rf_pred),\n",
        "                          \"Lasso Regression\": r2_score(y_test, las_pred), \"ElasticNet\": r2_score(y_test, el_pred),\n",
        "                          \"Ridge Regression\": r2_score(y_test, ridge_pred), \"SVR linear\": r2_score(y_test, svr_pred),\n",
        "                          \"SVR rbf\": r2_score(y_test, svr_rbf_pred), \"Gradient Boosting\": r2_score(y_test, gbr_pred),\n",
        "                          \"Voting\": r2_score(y_test, vot_pred)}\n",
        "\n",
        "r2_score_compare = pd.DataFrame(r2, index = [\"R2 Score\"])\n",
        "\n",
        "r2_score_compare.T.plot.bar()\n"
      ],
      "execution_count": 157,
      "outputs": [
        {
          "output_type": "execute_result",
          "data": {
            "text/plain": [
              "<matplotlib.axes._subplots.AxesSubplot at 0x7f5e76fd2550>"
            ]
          },
          "metadata": {},
          "execution_count": 157
        },
        {
          "output_type": "display_data",
          "data": {
            "image/png": "[encoded data removed]",
            "text/plain": [
              "<Figure size 432x288 with 1 Axes>"
            ]
          },
          "metadata": {
            "needs_background": "light"
          }
        }
      ]
    },
    {
      "cell_type": "markdown",
      "metadata": {
        "id": "t7fBYvAOiwlY"
      },
      "source": [
        "###We find that all the 3 best algorithms have the same R2 score. So for our task, we can implement any of these 3 algorithms."
      ]
    }
  ]
}